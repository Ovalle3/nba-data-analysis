{
 "cells": [
  {
   "cell_type": "code",
   "execution_count": 91,
   "metadata": {},
   "outputs": [],
   "source": [
    "import pandas as pd\n",
    "import numpy as np\n",
    "import seaborn as sns\n",
    "import matplotlib.pyplot as plt\n",
    "import statsmodels.formula.api as smf\n",
    "\n",
    "from sklearn.model_selection import train_test_split\n",
    "from sklearn.linear_model import LogisticRegression\n",
    "from sklearn.linear_model import LinearRegression\n",
    "\n",
    "import statsmodels.formula.api as smf\n",
    "\n",
    "from sklearn.preprocessing import MinMaxScaler\n",
    "\n",
    "from sklearn.neighbors import KNeighborsRegressor\n",
    "from sklearn.metrics import mean_squared_error\n",
    "from sklearn.cluster import KMeans\n",
    "\n",
    "from sklearn.metrics import silhouette_score\n",
    "from scipy.special import expit\n",
    "from scipy.stats import logistic\n",
    "\n",
    "%matplotlib inline"
   ]
  },
  {
   "cell_type": "code",
   "execution_count": 2,
   "metadata": {},
   "outputs": [],
   "source": [
    "nba = pd.read_csv(\"all_seasons.csv\")\n",
    "nba = nba.loc[:,\"player_name\":\"season\"]\n",
    "nba[\"season\"] = pd.to_datetime(nba[\"season\"].str[:4])"
   ]
  },
  {
   "cell_type": "code",
   "execution_count": 3,
   "metadata": {},
   "outputs": [
    {
     "data": {
      "text/html": [
       "<div>\n",
       "<style scoped>\n",
       "    .dataframe tbody tr th:only-of-type {\n",
       "        vertical-align: middle;\n",
       "    }\n",
       "\n",
       "    .dataframe tbody tr th {\n",
       "        vertical-align: top;\n",
       "    }\n",
       "\n",
       "    .dataframe thead th {\n",
       "        text-align: right;\n",
       "    }\n",
       "</style>\n",
       "<table border=\"1\" class=\"dataframe\">\n",
       "  <thead>\n",
       "    <tr style=\"text-align: right;\">\n",
       "      <th></th>\n",
       "      <th>player_name</th>\n",
       "      <th>team_abbreviation</th>\n",
       "      <th>age</th>\n",
       "      <th>player_height</th>\n",
       "      <th>player_weight</th>\n",
       "      <th>college</th>\n",
       "      <th>country</th>\n",
       "      <th>draft_year</th>\n",
       "      <th>draft_round</th>\n",
       "      <th>draft_number</th>\n",
       "      <th>...</th>\n",
       "      <th>pts</th>\n",
       "      <th>reb</th>\n",
       "      <th>ast</th>\n",
       "      <th>net_rating</th>\n",
       "      <th>oreb_pct</th>\n",
       "      <th>dreb_pct</th>\n",
       "      <th>usg_pct</th>\n",
       "      <th>ts_pct</th>\n",
       "      <th>ast_pct</th>\n",
       "      <th>season</th>\n",
       "    </tr>\n",
       "  </thead>\n",
       "  <tbody>\n",
       "    <tr>\n",
       "      <th>0</th>\n",
       "      <td>Dennis Rodman</td>\n",
       "      <td>CHI</td>\n",
       "      <td>36.0</td>\n",
       "      <td>198.12</td>\n",
       "      <td>99.790240</td>\n",
       "      <td>Southeastern Oklahoma State</td>\n",
       "      <td>USA</td>\n",
       "      <td>1986</td>\n",
       "      <td>2</td>\n",
       "      <td>27</td>\n",
       "      <td>...</td>\n",
       "      <td>5.7</td>\n",
       "      <td>16.1</td>\n",
       "      <td>3.1</td>\n",
       "      <td>16.1</td>\n",
       "      <td>0.186</td>\n",
       "      <td>0.323</td>\n",
       "      <td>0.100</td>\n",
       "      <td>0.479</td>\n",
       "      <td>0.113</td>\n",
       "      <td>1996-01-01</td>\n",
       "    </tr>\n",
       "    <tr>\n",
       "      <th>1</th>\n",
       "      <td>Dwayne Schintzius</td>\n",
       "      <td>LAC</td>\n",
       "      <td>28.0</td>\n",
       "      <td>215.90</td>\n",
       "      <td>117.933920</td>\n",
       "      <td>Florida</td>\n",
       "      <td>USA</td>\n",
       "      <td>1990</td>\n",
       "      <td>1</td>\n",
       "      <td>24</td>\n",
       "      <td>...</td>\n",
       "      <td>2.3</td>\n",
       "      <td>1.5</td>\n",
       "      <td>0.3</td>\n",
       "      <td>12.3</td>\n",
       "      <td>0.078</td>\n",
       "      <td>0.151</td>\n",
       "      <td>0.175</td>\n",
       "      <td>0.430</td>\n",
       "      <td>0.048</td>\n",
       "      <td>1996-01-01</td>\n",
       "    </tr>\n",
       "    <tr>\n",
       "      <th>2</th>\n",
       "      <td>Earl Cureton</td>\n",
       "      <td>TOR</td>\n",
       "      <td>39.0</td>\n",
       "      <td>205.74</td>\n",
       "      <td>95.254320</td>\n",
       "      <td>Detroit Mercy</td>\n",
       "      <td>USA</td>\n",
       "      <td>1979</td>\n",
       "      <td>3</td>\n",
       "      <td>58</td>\n",
       "      <td>...</td>\n",
       "      <td>0.8</td>\n",
       "      <td>1.0</td>\n",
       "      <td>0.4</td>\n",
       "      <td>-2.1</td>\n",
       "      <td>0.105</td>\n",
       "      <td>0.102</td>\n",
       "      <td>0.103</td>\n",
       "      <td>0.376</td>\n",
       "      <td>0.148</td>\n",
       "      <td>1996-01-01</td>\n",
       "    </tr>\n",
       "    <tr>\n",
       "      <th>3</th>\n",
       "      <td>Ed O'Bannon</td>\n",
       "      <td>DAL</td>\n",
       "      <td>24.0</td>\n",
       "      <td>203.20</td>\n",
       "      <td>100.697424</td>\n",
       "      <td>UCLA</td>\n",
       "      <td>USA</td>\n",
       "      <td>1995</td>\n",
       "      <td>1</td>\n",
       "      <td>9</td>\n",
       "      <td>...</td>\n",
       "      <td>3.7</td>\n",
       "      <td>2.3</td>\n",
       "      <td>0.6</td>\n",
       "      <td>-8.7</td>\n",
       "      <td>0.060</td>\n",
       "      <td>0.149</td>\n",
       "      <td>0.167</td>\n",
       "      <td>0.399</td>\n",
       "      <td>0.077</td>\n",
       "      <td>1996-01-01</td>\n",
       "    </tr>\n",
       "    <tr>\n",
       "      <th>4</th>\n",
       "      <td>Ed Pinckney</td>\n",
       "      <td>MIA</td>\n",
       "      <td>34.0</td>\n",
       "      <td>205.74</td>\n",
       "      <td>108.862080</td>\n",
       "      <td>Villanova</td>\n",
       "      <td>USA</td>\n",
       "      <td>1985</td>\n",
       "      <td>1</td>\n",
       "      <td>10</td>\n",
       "      <td>...</td>\n",
       "      <td>2.4</td>\n",
       "      <td>2.4</td>\n",
       "      <td>0.2</td>\n",
       "      <td>-11.2</td>\n",
       "      <td>0.109</td>\n",
       "      <td>0.179</td>\n",
       "      <td>0.127</td>\n",
       "      <td>0.611</td>\n",
       "      <td>0.040</td>\n",
       "      <td>1996-01-01</td>\n",
       "    </tr>\n",
       "    <tr>\n",
       "      <th>...</th>\n",
       "      <td>...</td>\n",
       "      <td>...</td>\n",
       "      <td>...</td>\n",
       "      <td>...</td>\n",
       "      <td>...</td>\n",
       "      <td>...</td>\n",
       "      <td>...</td>\n",
       "      <td>...</td>\n",
       "      <td>...</td>\n",
       "      <td>...</td>\n",
       "      <td>...</td>\n",
       "      <td>...</td>\n",
       "      <td>...</td>\n",
       "      <td>...</td>\n",
       "      <td>...</td>\n",
       "      <td>...</td>\n",
       "      <td>...</td>\n",
       "      <td>...</td>\n",
       "      <td>...</td>\n",
       "      <td>...</td>\n",
       "      <td>...</td>\n",
       "    </tr>\n",
       "    <tr>\n",
       "      <th>11140</th>\n",
       "      <td>Maxi Kleber</td>\n",
       "      <td>DAL</td>\n",
       "      <td>28.0</td>\n",
       "      <td>208.28</td>\n",
       "      <td>108.862080</td>\n",
       "      <td>None</td>\n",
       "      <td>Germany</td>\n",
       "      <td>Undrafted</td>\n",
       "      <td>Undrafted</td>\n",
       "      <td>Undrafted</td>\n",
       "      <td>...</td>\n",
       "      <td>9.1</td>\n",
       "      <td>5.4</td>\n",
       "      <td>1.1</td>\n",
       "      <td>4.6</td>\n",
       "      <td>0.056</td>\n",
       "      <td>0.140</td>\n",
       "      <td>0.136</td>\n",
       "      <td>0.605</td>\n",
       "      <td>0.064</td>\n",
       "      <td>2019-01-01</td>\n",
       "    </tr>\n",
       "    <tr>\n",
       "      <th>11141</th>\n",
       "      <td>Melvin Frazier Jr.</td>\n",
       "      <td>ORL</td>\n",
       "      <td>23.0</td>\n",
       "      <td>195.58</td>\n",
       "      <td>97.522280</td>\n",
       "      <td>Tulane</td>\n",
       "      <td>USA</td>\n",
       "      <td>2018</td>\n",
       "      <td>2</td>\n",
       "      <td>35</td>\n",
       "      <td>...</td>\n",
       "      <td>1.2</td>\n",
       "      <td>0.3</td>\n",
       "      <td>0.1</td>\n",
       "      <td>-2.4</td>\n",
       "      <td>0.018</td>\n",
       "      <td>0.058</td>\n",
       "      <td>0.164</td>\n",
       "      <td>0.480</td>\n",
       "      <td>0.033</td>\n",
       "      <td>2019-01-01</td>\n",
       "    </tr>\n",
       "    <tr>\n",
       "      <th>11142</th>\n",
       "      <td>Meyers Leonard</td>\n",
       "      <td>MIA</td>\n",
       "      <td>28.0</td>\n",
       "      <td>213.36</td>\n",
       "      <td>117.933920</td>\n",
       "      <td>Illinois</td>\n",
       "      <td>USA</td>\n",
       "      <td>2012</td>\n",
       "      <td>1</td>\n",
       "      <td>11</td>\n",
       "      <td>...</td>\n",
       "      <td>6.1</td>\n",
       "      <td>5.1</td>\n",
       "      <td>1.1</td>\n",
       "      <td>5.6</td>\n",
       "      <td>0.029</td>\n",
       "      <td>0.217</td>\n",
       "      <td>0.120</td>\n",
       "      <td>0.640</td>\n",
       "      <td>0.076</td>\n",
       "      <td>2019-01-01</td>\n",
       "    </tr>\n",
       "    <tr>\n",
       "      <th>11143</th>\n",
       "      <td>Norvel Pelle</td>\n",
       "      <td>PHI</td>\n",
       "      <td>27.0</td>\n",
       "      <td>208.28</td>\n",
       "      <td>104.779752</td>\n",
       "      <td>None</td>\n",
       "      <td>USA</td>\n",
       "      <td>Undrafted</td>\n",
       "      <td>Undrafted</td>\n",
       "      <td>Undrafted</td>\n",
       "      <td>...</td>\n",
       "      <td>2.1</td>\n",
       "      <td>3.0</td>\n",
       "      <td>0.4</td>\n",
       "      <td>-16.4</td>\n",
       "      <td>0.085</td>\n",
       "      <td>0.237</td>\n",
       "      <td>0.126</td>\n",
       "      <td>0.521</td>\n",
       "      <td>0.056</td>\n",
       "      <td>2019-01-01</td>\n",
       "    </tr>\n",
       "    <tr>\n",
       "      <th>11144</th>\n",
       "      <td>Matt Thomas</td>\n",
       "      <td>TOR</td>\n",
       "      <td>25.0</td>\n",
       "      <td>193.04</td>\n",
       "      <td>86.182480</td>\n",
       "      <td>Iowa State</td>\n",
       "      <td>USA</td>\n",
       "      <td>Undrafted</td>\n",
       "      <td>Undrafted</td>\n",
       "      <td>Undrafted</td>\n",
       "      <td>...</td>\n",
       "      <td>4.5</td>\n",
       "      <td>1.4</td>\n",
       "      <td>0.5</td>\n",
       "      <td>1.0</td>\n",
       "      <td>0.017</td>\n",
       "      <td>0.104</td>\n",
       "      <td>0.149</td>\n",
       "      <td>0.663</td>\n",
       "      <td>0.089</td>\n",
       "      <td>2019-01-01</td>\n",
       "    </tr>\n",
       "  </tbody>\n",
       "</table>\n",
       "<p>11145 rows × 21 columns</p>\n",
       "</div>"
      ],
      "text/plain": [
       "              player_name team_abbreviation   age  player_height  \\\n",
       "0           Dennis Rodman               CHI  36.0         198.12   \n",
       "1       Dwayne Schintzius               LAC  28.0         215.90   \n",
       "2            Earl Cureton               TOR  39.0         205.74   \n",
       "3             Ed O'Bannon               DAL  24.0         203.20   \n",
       "4             Ed Pinckney               MIA  34.0         205.74   \n",
       "...                   ...               ...   ...            ...   \n",
       "11140         Maxi Kleber               DAL  28.0         208.28   \n",
       "11141  Melvin Frazier Jr.               ORL  23.0         195.58   \n",
       "11142      Meyers Leonard               MIA  28.0         213.36   \n",
       "11143        Norvel Pelle               PHI  27.0         208.28   \n",
       "11144         Matt Thomas               TOR  25.0         193.04   \n",
       "\n",
       "       player_weight                      college  country draft_year  \\\n",
       "0          99.790240  Southeastern Oklahoma State      USA       1986   \n",
       "1         117.933920                      Florida      USA       1990   \n",
       "2          95.254320                Detroit Mercy      USA       1979   \n",
       "3         100.697424                         UCLA      USA       1995   \n",
       "4         108.862080                    Villanova      USA       1985   \n",
       "...              ...                          ...      ...        ...   \n",
       "11140     108.862080                         None  Germany  Undrafted   \n",
       "11141      97.522280                       Tulane      USA       2018   \n",
       "11142     117.933920                     Illinois      USA       2012   \n",
       "11143     104.779752                         None      USA  Undrafted   \n",
       "11144      86.182480                   Iowa State      USA  Undrafted   \n",
       "\n",
       "      draft_round draft_number  ...  pts   reb  ast  net_rating  oreb_pct  \\\n",
       "0               2           27  ...  5.7  16.1  3.1        16.1     0.186   \n",
       "1               1           24  ...  2.3   1.5  0.3        12.3     0.078   \n",
       "2               3           58  ...  0.8   1.0  0.4        -2.1     0.105   \n",
       "3               1            9  ...  3.7   2.3  0.6        -8.7     0.060   \n",
       "4               1           10  ...  2.4   2.4  0.2       -11.2     0.109   \n",
       "...           ...          ...  ...  ...   ...  ...         ...       ...   \n",
       "11140   Undrafted    Undrafted  ...  9.1   5.4  1.1         4.6     0.056   \n",
       "11141           2           35  ...  1.2   0.3  0.1        -2.4     0.018   \n",
       "11142           1           11  ...  6.1   5.1  1.1         5.6     0.029   \n",
       "11143   Undrafted    Undrafted  ...  2.1   3.0  0.4       -16.4     0.085   \n",
       "11144   Undrafted    Undrafted  ...  4.5   1.4  0.5         1.0     0.017   \n",
       "\n",
       "       dreb_pct  usg_pct  ts_pct  ast_pct     season  \n",
       "0         0.323    0.100   0.479    0.113 1996-01-01  \n",
       "1         0.151    0.175   0.430    0.048 1996-01-01  \n",
       "2         0.102    0.103   0.376    0.148 1996-01-01  \n",
       "3         0.149    0.167   0.399    0.077 1996-01-01  \n",
       "4         0.179    0.127   0.611    0.040 1996-01-01  \n",
       "...         ...      ...     ...      ...        ...  \n",
       "11140     0.140    0.136   0.605    0.064 2019-01-01  \n",
       "11141     0.058    0.164   0.480    0.033 2019-01-01  \n",
       "11142     0.217    0.120   0.640    0.076 2019-01-01  \n",
       "11143     0.237    0.126   0.521    0.056 2019-01-01  \n",
       "11144     0.104    0.149   0.663    0.089 2019-01-01  \n",
       "\n",
       "[11145 rows x 21 columns]"
      ]
     },
     "execution_count": 3,
     "metadata": {},
     "output_type": "execute_result"
    }
   ],
   "source": [
    "nba"
   ]
  },
  {
   "cell_type": "markdown",
   "metadata": {},
   "source": [
    "CREATE POSITIONS BASED ON HEIGHT"
   ]
  },
  {
   "cell_type": "code",
   "execution_count": 4,
   "metadata": {},
   "outputs": [
    {
     "name": "stderr",
     "output_type": "stream",
     "text": [
      "<ipython-input-4-d51621dc8b65>:2: SettingWithCopyWarning: \n",
      "A value is trying to be set on a copy of a slice from a DataFrame\n",
      "\n",
      "See the caveats in the documentation: https://pandas.pydata.org/pandas-docs/stable/user_guide/indexing.html#returning-a-view-versus-a-copy\n",
      "  nba[\"position\"][nba[\"player_height\"] >= 209] = \"Center\"\n",
      "<ipython-input-4-d51621dc8b65>:3: SettingWithCopyWarning: \n",
      "A value is trying to be set on a copy of a slice from a DataFrame\n",
      "\n",
      "See the caveats in the documentation: https://pandas.pydata.org/pandas-docs/stable/user_guide/indexing.html#returning-a-view-versus-a-copy\n",
      "  nba[\"position\"][nba[\"player_height\"] <= 199] = \"Guard\"\n",
      "<ipython-input-4-d51621dc8b65>:4: SettingWithCopyWarning: \n",
      "A value is trying to be set on a copy of a slice from a DataFrame\n",
      "\n",
      "See the caveats in the documentation: https://pandas.pydata.org/pandas-docs/stable/user_guide/indexing.html#returning-a-view-versus-a-copy\n",
      "  nba[\"position\"][(nba.player_height > 199)&(nba.player_height < 209 )] = \"Forward\"\n"
     ]
    },
    {
     "data": {
      "text/html": [
       "<div>\n",
       "<style scoped>\n",
       "    .dataframe tbody tr th:only-of-type {\n",
       "        vertical-align: middle;\n",
       "    }\n",
       "\n",
       "    .dataframe tbody tr th {\n",
       "        vertical-align: top;\n",
       "    }\n",
       "\n",
       "    .dataframe thead th {\n",
       "        text-align: right;\n",
       "    }\n",
       "</style>\n",
       "<table border=\"1\" class=\"dataframe\">\n",
       "  <thead>\n",
       "    <tr style=\"text-align: right;\">\n",
       "      <th></th>\n",
       "      <th>player_name</th>\n",
       "      <th>team_abbreviation</th>\n",
       "      <th>age</th>\n",
       "      <th>player_height</th>\n",
       "      <th>player_weight</th>\n",
       "      <th>college</th>\n",
       "      <th>country</th>\n",
       "      <th>draft_year</th>\n",
       "      <th>draft_round</th>\n",
       "      <th>draft_number</th>\n",
       "      <th>...</th>\n",
       "      <th>reb</th>\n",
       "      <th>ast</th>\n",
       "      <th>net_rating</th>\n",
       "      <th>oreb_pct</th>\n",
       "      <th>dreb_pct</th>\n",
       "      <th>usg_pct</th>\n",
       "      <th>ts_pct</th>\n",
       "      <th>ast_pct</th>\n",
       "      <th>season</th>\n",
       "      <th>position</th>\n",
       "    </tr>\n",
       "  </thead>\n",
       "  <tbody>\n",
       "    <tr>\n",
       "      <th>0</th>\n",
       "      <td>Dennis Rodman</td>\n",
       "      <td>CHI</td>\n",
       "      <td>36.0</td>\n",
       "      <td>198.12</td>\n",
       "      <td>99.790240</td>\n",
       "      <td>Southeastern Oklahoma State</td>\n",
       "      <td>USA</td>\n",
       "      <td>1986</td>\n",
       "      <td>2</td>\n",
       "      <td>27</td>\n",
       "      <td>...</td>\n",
       "      <td>16.1</td>\n",
       "      <td>3.1</td>\n",
       "      <td>16.1</td>\n",
       "      <td>0.186</td>\n",
       "      <td>0.323</td>\n",
       "      <td>0.100</td>\n",
       "      <td>0.479</td>\n",
       "      <td>0.113</td>\n",
       "      <td>1996-01-01</td>\n",
       "      <td>Guard</td>\n",
       "    </tr>\n",
       "    <tr>\n",
       "      <th>1</th>\n",
       "      <td>Dwayne Schintzius</td>\n",
       "      <td>LAC</td>\n",
       "      <td>28.0</td>\n",
       "      <td>215.90</td>\n",
       "      <td>117.933920</td>\n",
       "      <td>Florida</td>\n",
       "      <td>USA</td>\n",
       "      <td>1990</td>\n",
       "      <td>1</td>\n",
       "      <td>24</td>\n",
       "      <td>...</td>\n",
       "      <td>1.5</td>\n",
       "      <td>0.3</td>\n",
       "      <td>12.3</td>\n",
       "      <td>0.078</td>\n",
       "      <td>0.151</td>\n",
       "      <td>0.175</td>\n",
       "      <td>0.430</td>\n",
       "      <td>0.048</td>\n",
       "      <td>1996-01-01</td>\n",
       "      <td>Center</td>\n",
       "    </tr>\n",
       "    <tr>\n",
       "      <th>2</th>\n",
       "      <td>Earl Cureton</td>\n",
       "      <td>TOR</td>\n",
       "      <td>39.0</td>\n",
       "      <td>205.74</td>\n",
       "      <td>95.254320</td>\n",
       "      <td>Detroit Mercy</td>\n",
       "      <td>USA</td>\n",
       "      <td>1979</td>\n",
       "      <td>3</td>\n",
       "      <td>58</td>\n",
       "      <td>...</td>\n",
       "      <td>1.0</td>\n",
       "      <td>0.4</td>\n",
       "      <td>-2.1</td>\n",
       "      <td>0.105</td>\n",
       "      <td>0.102</td>\n",
       "      <td>0.103</td>\n",
       "      <td>0.376</td>\n",
       "      <td>0.148</td>\n",
       "      <td>1996-01-01</td>\n",
       "      <td>Forward</td>\n",
       "    </tr>\n",
       "    <tr>\n",
       "      <th>3</th>\n",
       "      <td>Ed O'Bannon</td>\n",
       "      <td>DAL</td>\n",
       "      <td>24.0</td>\n",
       "      <td>203.20</td>\n",
       "      <td>100.697424</td>\n",
       "      <td>UCLA</td>\n",
       "      <td>USA</td>\n",
       "      <td>1995</td>\n",
       "      <td>1</td>\n",
       "      <td>9</td>\n",
       "      <td>...</td>\n",
       "      <td>2.3</td>\n",
       "      <td>0.6</td>\n",
       "      <td>-8.7</td>\n",
       "      <td>0.060</td>\n",
       "      <td>0.149</td>\n",
       "      <td>0.167</td>\n",
       "      <td>0.399</td>\n",
       "      <td>0.077</td>\n",
       "      <td>1996-01-01</td>\n",
       "      <td>Forward</td>\n",
       "    </tr>\n",
       "    <tr>\n",
       "      <th>4</th>\n",
       "      <td>Ed Pinckney</td>\n",
       "      <td>MIA</td>\n",
       "      <td>34.0</td>\n",
       "      <td>205.74</td>\n",
       "      <td>108.862080</td>\n",
       "      <td>Villanova</td>\n",
       "      <td>USA</td>\n",
       "      <td>1985</td>\n",
       "      <td>1</td>\n",
       "      <td>10</td>\n",
       "      <td>...</td>\n",
       "      <td>2.4</td>\n",
       "      <td>0.2</td>\n",
       "      <td>-11.2</td>\n",
       "      <td>0.109</td>\n",
       "      <td>0.179</td>\n",
       "      <td>0.127</td>\n",
       "      <td>0.611</td>\n",
       "      <td>0.040</td>\n",
       "      <td>1996-01-01</td>\n",
       "      <td>Forward</td>\n",
       "    </tr>\n",
       "    <tr>\n",
       "      <th>...</th>\n",
       "      <td>...</td>\n",
       "      <td>...</td>\n",
       "      <td>...</td>\n",
       "      <td>...</td>\n",
       "      <td>...</td>\n",
       "      <td>...</td>\n",
       "      <td>...</td>\n",
       "      <td>...</td>\n",
       "      <td>...</td>\n",
       "      <td>...</td>\n",
       "      <td>...</td>\n",
       "      <td>...</td>\n",
       "      <td>...</td>\n",
       "      <td>...</td>\n",
       "      <td>...</td>\n",
       "      <td>...</td>\n",
       "      <td>...</td>\n",
       "      <td>...</td>\n",
       "      <td>...</td>\n",
       "      <td>...</td>\n",
       "      <td>...</td>\n",
       "    </tr>\n",
       "    <tr>\n",
       "      <th>11140</th>\n",
       "      <td>Maxi Kleber</td>\n",
       "      <td>DAL</td>\n",
       "      <td>28.0</td>\n",
       "      <td>208.28</td>\n",
       "      <td>108.862080</td>\n",
       "      <td>None</td>\n",
       "      <td>Germany</td>\n",
       "      <td>Undrafted</td>\n",
       "      <td>Undrafted</td>\n",
       "      <td>Undrafted</td>\n",
       "      <td>...</td>\n",
       "      <td>5.4</td>\n",
       "      <td>1.1</td>\n",
       "      <td>4.6</td>\n",
       "      <td>0.056</td>\n",
       "      <td>0.140</td>\n",
       "      <td>0.136</td>\n",
       "      <td>0.605</td>\n",
       "      <td>0.064</td>\n",
       "      <td>2019-01-01</td>\n",
       "      <td>Forward</td>\n",
       "    </tr>\n",
       "    <tr>\n",
       "      <th>11141</th>\n",
       "      <td>Melvin Frazier Jr.</td>\n",
       "      <td>ORL</td>\n",
       "      <td>23.0</td>\n",
       "      <td>195.58</td>\n",
       "      <td>97.522280</td>\n",
       "      <td>Tulane</td>\n",
       "      <td>USA</td>\n",
       "      <td>2018</td>\n",
       "      <td>2</td>\n",
       "      <td>35</td>\n",
       "      <td>...</td>\n",
       "      <td>0.3</td>\n",
       "      <td>0.1</td>\n",
       "      <td>-2.4</td>\n",
       "      <td>0.018</td>\n",
       "      <td>0.058</td>\n",
       "      <td>0.164</td>\n",
       "      <td>0.480</td>\n",
       "      <td>0.033</td>\n",
       "      <td>2019-01-01</td>\n",
       "      <td>Guard</td>\n",
       "    </tr>\n",
       "    <tr>\n",
       "      <th>11142</th>\n",
       "      <td>Meyers Leonard</td>\n",
       "      <td>MIA</td>\n",
       "      <td>28.0</td>\n",
       "      <td>213.36</td>\n",
       "      <td>117.933920</td>\n",
       "      <td>Illinois</td>\n",
       "      <td>USA</td>\n",
       "      <td>2012</td>\n",
       "      <td>1</td>\n",
       "      <td>11</td>\n",
       "      <td>...</td>\n",
       "      <td>5.1</td>\n",
       "      <td>1.1</td>\n",
       "      <td>5.6</td>\n",
       "      <td>0.029</td>\n",
       "      <td>0.217</td>\n",
       "      <td>0.120</td>\n",
       "      <td>0.640</td>\n",
       "      <td>0.076</td>\n",
       "      <td>2019-01-01</td>\n",
       "      <td>Center</td>\n",
       "    </tr>\n",
       "    <tr>\n",
       "      <th>11143</th>\n",
       "      <td>Norvel Pelle</td>\n",
       "      <td>PHI</td>\n",
       "      <td>27.0</td>\n",
       "      <td>208.28</td>\n",
       "      <td>104.779752</td>\n",
       "      <td>None</td>\n",
       "      <td>USA</td>\n",
       "      <td>Undrafted</td>\n",
       "      <td>Undrafted</td>\n",
       "      <td>Undrafted</td>\n",
       "      <td>...</td>\n",
       "      <td>3.0</td>\n",
       "      <td>0.4</td>\n",
       "      <td>-16.4</td>\n",
       "      <td>0.085</td>\n",
       "      <td>0.237</td>\n",
       "      <td>0.126</td>\n",
       "      <td>0.521</td>\n",
       "      <td>0.056</td>\n",
       "      <td>2019-01-01</td>\n",
       "      <td>Forward</td>\n",
       "    </tr>\n",
       "    <tr>\n",
       "      <th>11144</th>\n",
       "      <td>Matt Thomas</td>\n",
       "      <td>TOR</td>\n",
       "      <td>25.0</td>\n",
       "      <td>193.04</td>\n",
       "      <td>86.182480</td>\n",
       "      <td>Iowa State</td>\n",
       "      <td>USA</td>\n",
       "      <td>Undrafted</td>\n",
       "      <td>Undrafted</td>\n",
       "      <td>Undrafted</td>\n",
       "      <td>...</td>\n",
       "      <td>1.4</td>\n",
       "      <td>0.5</td>\n",
       "      <td>1.0</td>\n",
       "      <td>0.017</td>\n",
       "      <td>0.104</td>\n",
       "      <td>0.149</td>\n",
       "      <td>0.663</td>\n",
       "      <td>0.089</td>\n",
       "      <td>2019-01-01</td>\n",
       "      <td>Guard</td>\n",
       "    </tr>\n",
       "  </tbody>\n",
       "</table>\n",
       "<p>11145 rows × 22 columns</p>\n",
       "</div>"
      ],
      "text/plain": [
       "              player_name team_abbreviation   age  player_height  \\\n",
       "0           Dennis Rodman               CHI  36.0         198.12   \n",
       "1       Dwayne Schintzius               LAC  28.0         215.90   \n",
       "2            Earl Cureton               TOR  39.0         205.74   \n",
       "3             Ed O'Bannon               DAL  24.0         203.20   \n",
       "4             Ed Pinckney               MIA  34.0         205.74   \n",
       "...                   ...               ...   ...            ...   \n",
       "11140         Maxi Kleber               DAL  28.0         208.28   \n",
       "11141  Melvin Frazier Jr.               ORL  23.0         195.58   \n",
       "11142      Meyers Leonard               MIA  28.0         213.36   \n",
       "11143        Norvel Pelle               PHI  27.0         208.28   \n",
       "11144         Matt Thomas               TOR  25.0         193.04   \n",
       "\n",
       "       player_weight                      college  country draft_year  \\\n",
       "0          99.790240  Southeastern Oklahoma State      USA       1986   \n",
       "1         117.933920                      Florida      USA       1990   \n",
       "2          95.254320                Detroit Mercy      USA       1979   \n",
       "3         100.697424                         UCLA      USA       1995   \n",
       "4         108.862080                    Villanova      USA       1985   \n",
       "...              ...                          ...      ...        ...   \n",
       "11140     108.862080                         None  Germany  Undrafted   \n",
       "11141      97.522280                       Tulane      USA       2018   \n",
       "11142     117.933920                     Illinois      USA       2012   \n",
       "11143     104.779752                         None      USA  Undrafted   \n",
       "11144      86.182480                   Iowa State      USA  Undrafted   \n",
       "\n",
       "      draft_round draft_number  ...   reb  ast  net_rating  oreb_pct  \\\n",
       "0               2           27  ...  16.1  3.1        16.1     0.186   \n",
       "1               1           24  ...   1.5  0.3        12.3     0.078   \n",
       "2               3           58  ...   1.0  0.4        -2.1     0.105   \n",
       "3               1            9  ...   2.3  0.6        -8.7     0.060   \n",
       "4               1           10  ...   2.4  0.2       -11.2     0.109   \n",
       "...           ...          ...  ...   ...  ...         ...       ...   \n",
       "11140   Undrafted    Undrafted  ...   5.4  1.1         4.6     0.056   \n",
       "11141           2           35  ...   0.3  0.1        -2.4     0.018   \n",
       "11142           1           11  ...   5.1  1.1         5.6     0.029   \n",
       "11143   Undrafted    Undrafted  ...   3.0  0.4       -16.4     0.085   \n",
       "11144   Undrafted    Undrafted  ...   1.4  0.5         1.0     0.017   \n",
       "\n",
       "       dreb_pct  usg_pct  ts_pct  ast_pct     season  position  \n",
       "0         0.323    0.100   0.479    0.113 1996-01-01     Guard  \n",
       "1         0.151    0.175   0.430    0.048 1996-01-01    Center  \n",
       "2         0.102    0.103   0.376    0.148 1996-01-01   Forward  \n",
       "3         0.149    0.167   0.399    0.077 1996-01-01   Forward  \n",
       "4         0.179    0.127   0.611    0.040 1996-01-01   Forward  \n",
       "...         ...      ...     ...      ...        ...       ...  \n",
       "11140     0.140    0.136   0.605    0.064 2019-01-01   Forward  \n",
       "11141     0.058    0.164   0.480    0.033 2019-01-01     Guard  \n",
       "11142     0.217    0.120   0.640    0.076 2019-01-01    Center  \n",
       "11143     0.237    0.126   0.521    0.056 2019-01-01   Forward  \n",
       "11144     0.104    0.149   0.663    0.089 2019-01-01     Guard  \n",
       "\n",
       "[11145 rows x 22 columns]"
      ]
     },
     "execution_count": 4,
     "metadata": {},
     "output_type": "execute_result"
    }
   ],
   "source": [
    "nba[\"position\"] = \"\"\n",
    "nba[\"position\"][nba[\"player_height\"] >= 209] = \"Center\"\n",
    "nba[\"position\"][nba[\"player_height\"] <= 199] = \"Guard\"\n",
    "nba[\"position\"][(nba.player_height > 199)&(nba.player_height < 209 )] = \"Forward\"\n",
    "nba"
   ]
  },
  {
   "cell_type": "markdown",
   "metadata": {},
   "source": [
    "GROUP BY CENTER"
   ]
  },
  {
   "cell_type": "code",
   "execution_count": 5,
   "metadata": {},
   "outputs": [],
   "source": [
    "center = nba[\"position\"] == \"Center\"\n",
    "center_usg = nba[center]\n",
    "center_usg2 = center_usg.groupby(\"season\").mean()[\"usg_pct\"]"
   ]
  },
  {
   "cell_type": "code",
   "execution_count": 6,
   "metadata": {},
   "outputs": [
    {
     "data": {
      "text/plain": [
       "Text(0, 0.5, 'USG%')"
      ]
     },
     "execution_count": 6,
     "metadata": {},
     "output_type": "execute_result"
    },
    {
     "data": {
      "image/png": "[encoded data removed]",
      "text/plain": [
       "<Figure size 432x288 with 1 Axes>"
      ]
     },
     "metadata": {
      "needs_background": "light"
     },
     "output_type": "display_data"
    }
   ],
   "source": [
    "year_list = []\n",
    "for i in range(1996,2020,1):\n",
    "    year_list.append(i)\n",
    "sns.lineplot(x=year_list,y=center_usg2)\n",
    "plt.title(\"Center Usage%\")\n",
    "plt.xlabel(\"Season\")\n",
    "plt.ylabel(\"USG%\")"
   ]
  },
  {
   "cell_type": "markdown",
   "metadata": {},
   "source": [
    "GROUP BY GUARD"
   ]
  },
  {
   "cell_type": "code",
   "execution_count": 7,
   "metadata": {},
   "outputs": [],
   "source": [
    "guard = nba[\"position\"] == \"Guard\"\n",
    "guard_reb = nba[guard]\n",
    "guard_reb_o = guard_reb.groupby(\"season\").mean()[\"oreb_pct\"]\n",
    "guard_reb_d = guard_reb.groupby(\"season\").mean()[\"dreb_pct\"]"
   ]
  },
  {
   "cell_type": "code",
   "execution_count": 8,
   "metadata": {},
   "outputs": [
    {
     "data": {
      "text/plain": [
       "Text(0, 0.5, 'DEF REB%')"
      ]
     },
     "execution_count": 8,
     "metadata": {},
     "output_type": "execute_result"
    },
    {
     "data": {
      "image/png": "[encoded data removed]",
      "text/plain": [
       "<Figure size 432x288 with 1 Axes>"
      ]
     },
     "metadata": {
      "needs_background": "light"
     },
     "output_type": "display_data"
    }
   ],
   "source": [
    "sns.lineplot(x=year_list,y=guard_reb_d)\n",
    "plt.title(\"Defensive Rebound% for Guards\")\n",
    "plt.xlabel(\"Season\")\n",
    "plt.ylabel(\"DEF REB%\")"
   ]
  },
  {
   "cell_type": "code",
   "execution_count": 9,
   "metadata": {},
   "outputs": [
    {
     "data": {
      "text/plain": [
       "Text(0, 0.5, 'OFF REB%')"
      ]
     },
     "execution_count": 9,
     "metadata": {},
     "output_type": "execute_result"
    },
    {
     "data": {
      "image/png": "[encoded data removed]",
      "text/plain": [
       "<Figure size 432x288 with 1 Axes>"
      ]
     },
     "metadata": {
      "needs_background": "light"
     },
     "output_type": "display_data"
    }
   ],
   "source": [
    "sns.lineplot(x=year_list,y=guard_reb_o)\n",
    "plt.title(\"Offensive Rebound% for Guards\")\n",
    "plt.xlabel(\"Season\")\n",
    "plt.ylabel(\"OFF REB%\")"
   ]
  },
  {
   "cell_type": "code",
   "execution_count": 10,
   "metadata": {},
   "outputs": [],
   "source": [
    "nba_2019_20 = nba[\"season\"].dt.year == 2019\n",
    "current_nba = nba[nba_2019_20]"
   ]
  },
  {
   "cell_type": "code",
   "execution_count": 11,
   "metadata": {},
   "outputs": [
    {
     "data": {
      "text/plain": [
       "Text(17.197291666666665, 0.5, 'Count')"
      ]
     },
     "execution_count": 11,
     "metadata": {},
     "output_type": "execute_result"
    },
    {
     "data": {
      "image/png": "[encoded data removed]",
      "text/plain": [
       "<Figure size 436.125x360 with 1 Axes>"
      ]
     },
     "metadata": {
      "needs_background": "light"
     },
     "output_type": "display_data"
    }
   ],
   "source": [
    "sns.displot(x=\"pts\",data=current_nba,hue=\"position\")\n",
    "plt.title(\"Distribution of PPG per Position\")\n",
    "plt.xlabel(\"Points\")\n",
    "plt.ylabel(\"Count\")"
   ]
  },
  {
   "cell_type": "code",
   "execution_count": 12,
   "metadata": {},
   "outputs": [
    {
     "data": {
      "text/plain": [
       "Text(10.049999999999997, 0.5, 'Points')"
      ]
     },
     "execution_count": 12,
     "metadata": {},
     "output_type": "execute_result"
    },
    {
     "data": {
      "image/png": "[encoded data removed]",
      "text/plain": [
       "<Figure size 1296x432 with 1 Axes>"
      ]
     },
     "metadata": {
      "needs_background": "light"
     },
     "output_type": "display_data"
    }
   ],
   "source": [
    "recent_decade = nba[\"season\"].dt.year >= 2013\n",
    "decade_nba = nba[recent_decade]\n",
    "sns.color_palette(\"crest\", as_cmap=True)\n",
    "g=sns.catplot(x = \"team_abbreviation\", y = \"pts\", kind = \"bar\", data = decade_nba)\n",
    "g.fig.set_size_inches(18,6)\n",
    "plt.xticks(rotation=45)\n",
    "plt.title(\"Team Scoring Since 2013\")\n",
    "plt.xlabel(\"NBA Team\")\n",
    "plt.ylabel(\"Points\")"
   ]
  },
  {
   "cell_type": "code",
   "execution_count": 13,
   "metadata": {},
   "outputs": [
    {
     "data": {
      "text/plain": [
       "Text(13.260052083333335, 0.5, 'Assists')"
      ]
     },
     "execution_count": 13,
     "metadata": {},
     "output_type": "execute_result"
    },
    {
     "data": {
      "image/png": "[encoded data removed]",
      "text/plain": [
       "<Figure size 436.125x360 with 1 Axes>"
      ]
     },
     "metadata": {
      "needs_background": "light"
     },
     "output_type": "display_data"
    }
   ],
   "source": [
    "sns.relplot(x=\"pts\",y=\"ast\",data=nba,hue=\"position\")\n",
    "plt.title(\"PPG vs APG\")\n",
    "plt.xlabel(\"Points\")\n",
    "plt.ylabel(\"Assists\")"
   ]
  },
  {
   "cell_type": "code",
   "execution_count": 14,
   "metadata": {},
   "outputs": [
    {
     "data": {
      "text/plain": [
       "Text(12.690694444444453, 0.5, 'Assists')"
      ]
     },
     "execution_count": 14,
     "metadata": {},
     "output_type": "execute_result"
    },
    {
     "data": {
      "image/png": "[encoded data removed]",
      "text/plain": [
       "<Figure size 433x360 with 1 Axes>"
      ]
     },
     "metadata": {},
     "output_type": "display_data"
    }
   ],
   "source": [
    "sns.set_style(\"ticks\")\n",
    "sns.set_style(\"white\")\n",
    "sns.relplot(x=\"reb\",y=\"ast\",data=nba,hue=\"position\",size=\"pts\")\n",
    "plt.title(\"RPG vs APG\")\n",
    "plt.xlabel(\"Rebounds\")\n",
    "plt.ylabel(\"Assists\")"
   ]
  },
  {
   "cell_type": "markdown",
   "metadata": {},
   "source": [
    "## LOGISTIC REGRESSION"
   ]
  },
  {
   "cell_type": "markdown",
   "metadata": {},
   "source": [
    "DETERMINE IF CENTER"
   ]
  },
  {
   "cell_type": "code",
   "execution_count": 15,
   "metadata": {},
   "outputs": [],
   "source": [
    "def big_man(x):\n",
    "  if x == \"Center\":\n",
    "    return 1\n",
    "  else:\n",
    "    return 0"
   ]
  },
  {
   "cell_type": "code",
   "execution_count": 16,
   "metadata": {},
   "outputs": [],
   "source": [
    "nba[\"is_center\"] = nba[\"position\"].apply(big_man)"
   ]
  },
  {
   "cell_type": "markdown",
   "metadata": {},
   "source": [
    "SET VARIABLES"
   ]
  },
  {
   "cell_type": "code",
   "execution_count": 17,
   "metadata": {},
   "outputs": [],
   "source": [
    "x = nba[[\"reb\",\"pts\",\"ast\",\"usg_pct\",\"ts_pct\"]]\n",
    "y = nba[\"is_center\"]"
   ]
  },
  {
   "cell_type": "markdown",
   "metadata": {},
   "source": [
    "TEST VARIABLES W/ STATS MODEL BEFORE TRAIN-TEST-SPLIT"
   ]
  },
  {
   "cell_type": "code",
   "execution_count": 18,
   "metadata": {},
   "outputs": [
    {
     "name": "stdout",
     "output_type": "stream",
     "text": [
      "Optimization terminated successfully.\n",
      "         Current function value: 0.357965\n",
      "         Iterations 8\n"
     ]
    },
    {
     "data": {
      "text/html": [
       "<table class=\"simpletable\">\n",
       "<caption>Logit Regression Results</caption>\n",
       "<tr>\n",
       "  <th>Dep. Variable:</th>       <td>is_center</td>    <th>  No. Observations:  </th>  <td> 11145</td> \n",
       "</tr>\n",
       "<tr>\n",
       "  <th>Model:</th>                 <td>Logit</td>      <th>  Df Residuals:      </th>  <td> 11139</td> \n",
       "</tr>\n",
       "<tr>\n",
       "  <th>Method:</th>                 <td>MLE</td>       <th>  Df Model:          </th>  <td>     5</td> \n",
       "</tr>\n",
       "<tr>\n",
       "  <th>Date:</th>            <td>Mon, 03 May 2021</td> <th>  Pseudo R-squ.:     </th>  <td>0.2351</td> \n",
       "</tr>\n",
       "<tr>\n",
       "  <th>Time:</th>                <td>23:55:15</td>     <th>  Log-Likelihood:    </th> <td> -3989.5</td>\n",
       "</tr>\n",
       "<tr>\n",
       "  <th>converged:</th>             <td>True</td>       <th>  LL-Null:           </th> <td> -5215.4</td>\n",
       "</tr>\n",
       "<tr>\n",
       "  <th>Covariance Type:</th>     <td>nonrobust</td>    <th>  LLR p-value:       </th>  <td> 0.000</td> \n",
       "</tr>\n",
       "</table>\n",
       "<table class=\"simpletable\">\n",
       "<tr>\n",
       "      <td></td>         <th>coef</th>     <th>std err</th>      <th>z</th>      <th>P>|z|</th>  <th>[0.025</th>    <th>0.975]</th>  \n",
       "</tr>\n",
       "<tr>\n",
       "  <th>Intercept</th> <td>   -3.2506</td> <td>    0.210</td> <td>  -15.496</td> <td> 0.000</td> <td>   -3.662</td> <td>   -2.839</td>\n",
       "</tr>\n",
       "<tr>\n",
       "  <th>reb</th>       <td>    0.5935</td> <td>    0.019</td> <td>   31.650</td> <td> 0.000</td> <td>    0.557</td> <td>    0.630</td>\n",
       "</tr>\n",
       "<tr>\n",
       "  <th>pts</th>       <td>   -0.1624</td> <td>    0.014</td> <td>  -11.798</td> <td> 0.000</td> <td>   -0.189</td> <td>   -0.135</td>\n",
       "</tr>\n",
       "<tr>\n",
       "  <th>ast</th>       <td>   -0.7868</td> <td>    0.048</td> <td>  -16.379</td> <td> 0.000</td> <td>   -0.881</td> <td>   -0.693</td>\n",
       "</tr>\n",
       "<tr>\n",
       "  <th>usg_pct</th>   <td>    6.5688</td> <td>    0.711</td> <td>    9.241</td> <td> 0.000</td> <td>    5.176</td> <td>    7.962</td>\n",
       "</tr>\n",
       "<tr>\n",
       "  <th>ts_pct</th>    <td>    0.7275</td> <td>    0.314</td> <td>    2.316</td> <td> 0.021</td> <td>    0.112</td> <td>    1.343</td>\n",
       "</tr>\n",
       "</table>"
      ],
      "text/plain": [
       "<class 'statsmodels.iolib.summary.Summary'>\n",
       "\"\"\"\n",
       "                           Logit Regression Results                           \n",
       "==============================================================================\n",
       "Dep. Variable:              is_center   No. Observations:                11145\n",
       "Model:                          Logit   Df Residuals:                    11139\n",
       "Method:                           MLE   Df Model:                            5\n",
       "Date:                Mon, 03 May 2021   Pseudo R-squ.:                  0.2351\n",
       "Time:                        23:55:15   Log-Likelihood:                -3989.5\n",
       "converged:                       True   LL-Null:                       -5215.4\n",
       "Covariance Type:            nonrobust   LLR p-value:                     0.000\n",
       "==============================================================================\n",
       "                 coef    std err          z      P>|z|      [0.025      0.975]\n",
       "------------------------------------------------------------------------------\n",
       "Intercept     -3.2506      0.210    -15.496      0.000      -3.662      -2.839\n",
       "reb            0.5935      0.019     31.650      0.000       0.557       0.630\n",
       "pts           -0.1624      0.014    -11.798      0.000      -0.189      -0.135\n",
       "ast           -0.7868      0.048    -16.379      0.000      -0.881      -0.693\n",
       "usg_pct        6.5688      0.711      9.241      0.000       5.176       7.962\n",
       "ts_pct         0.7275      0.314      2.316      0.021       0.112       1.343\n",
       "==============================================================================\n",
       "\"\"\""
      ]
     },
     "execution_count": 18,
     "metadata": {},
     "output_type": "execute_result"
    }
   ],
   "source": [
    "logit_model = smf.logit(\"is_center ~ reb + pts + ast + usg_pct + ts_pct\",data=nba).fit()\n",
    "logit_model.summary()"
   ]
  },
  {
   "cell_type": "code",
   "execution_count": 19,
   "metadata": {},
   "outputs": [
    {
     "data": {
      "text/plain": [
       "array([[8801.,  363.],\n",
       "       [1550.,  431.]])"
      ]
     },
     "execution_count": 19,
     "metadata": {},
     "output_type": "execute_result"
    }
   ],
   "source": [
    "confusion_matrix = logit_model.pred_table()\n",
    "confusion_matrix"
   ]
  },
  {
   "cell_type": "markdown",
   "metadata": {},
   "source": [
    "SPLIT INTO TRAINING AND TESTING DATA"
   ]
  },
  {
   "cell_type": "code",
   "execution_count": 20,
   "metadata": {},
   "outputs": [],
   "source": [
    "x_train,x_test,y_train,y_test = train_test_split(x,y)"
   ]
  },
  {
   "cell_type": "markdown",
   "metadata": {},
   "source": [
    "CREATE MODEL AND FIT TO TRAINING DATA"
   ]
  },
  {
   "cell_type": "code",
   "execution_count": 21,
   "metadata": {},
   "outputs": [
    {
     "data": {
      "text/plain": [
       "LogisticRegression()"
      ]
     },
     "execution_count": 21,
     "metadata": {},
     "output_type": "execute_result"
    }
   ],
   "source": [
    "logmodel = LogisticRegression()\n",
    "logmodel.fit(x_train,y_train)"
   ]
  },
  {
   "cell_type": "markdown",
   "metadata": {},
   "source": [
    "MAKE PREDICTIONS AND EVALUATE"
   ]
  },
  {
   "cell_type": "code",
   "execution_count": 22,
   "metadata": {},
   "outputs": [],
   "source": [
    "predictions = logmodel.predict(x_test)"
   ]
  },
  {
   "cell_type": "code",
   "execution_count": 23,
   "metadata": {},
   "outputs": [
    {
     "name": "stdout",
     "output_type": "stream",
     "text": [
      "              precision    recall  f1-score   support\n",
      "\n",
      "           0       0.85      0.96      0.90      2288\n",
      "           1       0.53      0.22      0.31       499\n",
      "\n",
      "    accuracy                           0.83      2787\n",
      "   macro avg       0.69      0.59      0.61      2787\n",
      "weighted avg       0.79      0.83      0.79      2787\n",
      "\n"
     ]
    }
   ],
   "source": [
    "from sklearn.metrics import classification_report\n",
    "print(classification_report(y_test,predictions))"
   ]
  },
  {
   "cell_type": "markdown",
   "metadata": {},
   "source": [
    "REPEAT WITH DIFFERENT INDEPENDENT VARIABLES"
   ]
  },
  {
   "cell_type": "code",
   "execution_count": 24,
   "metadata": {},
   "outputs": [],
   "source": [
    "x = nba[[\"reb\",\"pts\",\"ast\",\"usg_pct\",\"ts_pct\",\"oreb_pct\",\"dreb_pct\",\"player_weight\"]]\n",
    "y = nba[\"is_center\"]"
   ]
  },
  {
   "cell_type": "code",
   "execution_count": 25,
   "metadata": {},
   "outputs": [
    {
     "name": "stdout",
     "output_type": "stream",
     "text": [
      "Optimization terminated successfully.\n",
      "         Current function value: 0.298256\n",
      "         Iterations 8\n"
     ]
    },
    {
     "data": {
      "text/html": [
       "<table class=\"simpletable\">\n",
       "<caption>Logit Regression Results</caption>\n",
       "<tr>\n",
       "  <th>Dep. Variable:</th>       <td>is_center</td>    <th>  No. Observations:  </th>  <td> 11145</td> \n",
       "</tr>\n",
       "<tr>\n",
       "  <th>Model:</th>                 <td>Logit</td>      <th>  Df Residuals:      </th>  <td> 11136</td> \n",
       "</tr>\n",
       "<tr>\n",
       "  <th>Method:</th>                 <td>MLE</td>       <th>  Df Model:          </th>  <td>     8</td> \n",
       "</tr>\n",
       "<tr>\n",
       "  <th>Date:</th>            <td>Mon, 03 May 2021</td> <th>  Pseudo R-squ.:     </th>  <td>0.3626</td> \n",
       "</tr>\n",
       "<tr>\n",
       "  <th>Time:</th>                <td>23:55:28</td>     <th>  Log-Likelihood:    </th> <td> -3324.1</td>\n",
       "</tr>\n",
       "<tr>\n",
       "  <th>converged:</th>             <td>True</td>       <th>  LL-Null:           </th> <td> -5215.4</td>\n",
       "</tr>\n",
       "<tr>\n",
       "  <th>Covariance Type:</th>     <td>nonrobust</td>    <th>  LLR p-value:       </th>  <td> 0.000</td> \n",
       "</tr>\n",
       "</table>\n",
       "<table class=\"simpletable\">\n",
       "<tr>\n",
       "        <td></td>           <th>coef</th>     <th>std err</th>      <th>z</th>      <th>P>|z|</th>  <th>[0.025</th>    <th>0.975]</th>  \n",
       "</tr>\n",
       "<tr>\n",
       "  <th>Intercept</th>     <td>  -15.9832</td> <td>    0.490</td> <td>  -32.602</td> <td> 0.000</td> <td>  -16.944</td> <td>  -15.022</td>\n",
       "</tr>\n",
       "<tr>\n",
       "  <th>reb</th>           <td>    0.2285</td> <td>    0.027</td> <td>    8.536</td> <td> 0.000</td> <td>    0.176</td> <td>    0.281</td>\n",
       "</tr>\n",
       "<tr>\n",
       "  <th>pts</th>           <td>   -0.0776</td> <td>    0.016</td> <td>   -4.753</td> <td> 0.000</td> <td>   -0.110</td> <td>   -0.046</td>\n",
       "</tr>\n",
       "<tr>\n",
       "  <th>ast</th>           <td>   -0.3293</td> <td>    0.050</td> <td>   -6.556</td> <td> 0.000</td> <td>   -0.428</td> <td>   -0.231</td>\n",
       "</tr>\n",
       "<tr>\n",
       "  <th>usg_pct</th>       <td>    2.7012</td> <td>    0.869</td> <td>    3.109</td> <td> 0.002</td> <td>    0.998</td> <td>    4.404</td>\n",
       "</tr>\n",
       "<tr>\n",
       "  <th>ts_pct</th>        <td>    0.7210</td> <td>    0.353</td> <td>    2.044</td> <td> 0.041</td> <td>    0.030</td> <td>    1.412</td>\n",
       "</tr>\n",
       "<tr>\n",
       "  <th>oreb_pct</th>      <td>    0.5603</td> <td>    0.858</td> <td>    0.653</td> <td> 0.514</td> <td>   -1.122</td> <td>    2.243</td>\n",
       "</tr>\n",
       "<tr>\n",
       "  <th>dreb_pct</th>      <td>    3.9396</td> <td>    0.663</td> <td>    5.940</td> <td> 0.000</td> <td>    2.640</td> <td>    5.239</td>\n",
       "</tr>\n",
       "<tr>\n",
       "  <th>player_weight</th> <td>    0.1212</td> <td>    0.004</td> <td>   29.431</td> <td> 0.000</td> <td>    0.113</td> <td>    0.129</td>\n",
       "</tr>\n",
       "</table>"
      ],
      "text/plain": [
       "<class 'statsmodels.iolib.summary.Summary'>\n",
       "\"\"\"\n",
       "                           Logit Regression Results                           \n",
       "==============================================================================\n",
       "Dep. Variable:              is_center   No. Observations:                11145\n",
       "Model:                          Logit   Df Residuals:                    11136\n",
       "Method:                           MLE   Df Model:                            8\n",
       "Date:                Mon, 03 May 2021   Pseudo R-squ.:                  0.3626\n",
       "Time:                        23:55:28   Log-Likelihood:                -3324.1\n",
       "converged:                       True   LL-Null:                       -5215.4\n",
       "Covariance Type:            nonrobust   LLR p-value:                     0.000\n",
       "=================================================================================\n",
       "                    coef    std err          z      P>|z|      [0.025      0.975]\n",
       "---------------------------------------------------------------------------------\n",
       "Intercept       -15.9832      0.490    -32.602      0.000     -16.944     -15.022\n",
       "reb               0.2285      0.027      8.536      0.000       0.176       0.281\n",
       "pts              -0.0776      0.016     -4.753      0.000      -0.110      -0.046\n",
       "ast              -0.3293      0.050     -6.556      0.000      -0.428      -0.231\n",
       "usg_pct           2.7012      0.869      3.109      0.002       0.998       4.404\n",
       "ts_pct            0.7210      0.353      2.044      0.041       0.030       1.412\n",
       "oreb_pct          0.5603      0.858      0.653      0.514      -1.122       2.243\n",
       "dreb_pct          3.9396      0.663      5.940      0.000       2.640       5.239\n",
       "player_weight     0.1212      0.004     29.431      0.000       0.113       0.129\n",
       "=================================================================================\n",
       "\"\"\""
      ]
     },
     "execution_count": 25,
     "metadata": {},
     "output_type": "execute_result"
    }
   ],
   "source": [
    "logit_model2 = smf.logit(\"is_center ~ reb + pts + ast + usg_pct + ts_pct + oreb_pct + dreb_pct + player_weight\",data=nba).fit()\n",
    "logit_model2.summary()"
   ]
  },
  {
   "cell_type": "code",
   "execution_count": 26,
   "metadata": {},
   "outputs": [
    {
     "data": {
      "text/plain": [
       "array([[8646.,  518.],\n",
       "       [1167.,  814.]])"
      ]
     },
     "execution_count": 26,
     "metadata": {},
     "output_type": "execute_result"
    }
   ],
   "source": [
    "confusion_matrix = logit_model2.pred_table()\n",
    "confusion_matrix"
   ]
  },
  {
   "cell_type": "code",
   "execution_count": 27,
   "metadata": {},
   "outputs": [],
   "source": [
    "true_pos = confusion_matrix[0][0]\n",
    "false_pos = confusion_matrix[0][1]\n",
    "false_neg = confusion_matrix[1][0]\n",
    "true_neg = confusion_matrix[1][1]"
   ]
  },
  {
   "cell_type": "code",
   "execution_count": 28,
   "metadata": {},
   "outputs": [
    {
     "data": {
      "text/plain": [
       "0.88107612350963"
      ]
     },
     "execution_count": 28,
     "metadata": {},
     "output_type": "execute_result"
    }
   ],
   "source": [
    "sensitivity = (true_pos)/(true_pos+false_neg)\n",
    "sensitivity"
   ]
  },
  {
   "cell_type": "code",
   "execution_count": 29,
   "metadata": {},
   "outputs": [
    {
     "data": {
      "text/plain": [
       "0.6925816023738872"
      ]
     },
     "execution_count": 29,
     "metadata": {},
     "output_type": "execute_result"
    }
   ],
   "source": [
    "specificity = (false_neg)/(false_neg + false_pos)\n",
    "specificity"
   ]
  },
  {
   "cell_type": "code",
   "execution_count": 30,
   "metadata": {},
   "outputs": [
    {
     "data": {
      "text/plain": [
       "0.8488111260655002"
      ]
     },
     "execution_count": 30,
     "metadata": {},
     "output_type": "execute_result"
    }
   ],
   "source": [
    "accuracy = (true_pos + true_neg)/len(nba)\n",
    "accuracy"
   ]
  },
  {
   "cell_type": "code",
   "execution_count": 31,
   "metadata": {},
   "outputs": [
    {
     "data": {
      "text/plain": [
       "0.943474465298996"
      ]
     },
     "execution_count": 31,
     "metadata": {},
     "output_type": "execute_result"
    }
   ],
   "source": [
    "precision = true_pos/(true_pos + false_pos)\n",
    "precision"
   ]
  },
  {
   "cell_type": "code",
   "execution_count": 32,
   "metadata": {},
   "outputs": [],
   "source": [
    "x_train,x_test,y_train,y_test = train_test_split(x,y)"
   ]
  },
  {
   "cell_type": "code",
   "execution_count": 33,
   "metadata": {},
   "outputs": [
    {
     "name": "stderr",
     "output_type": "stream",
     "text": [
      "/Users/henryovalle/opt/anaconda3/lib/python3.8/site-packages/sklearn/linear_model/_logistic.py:762: ConvergenceWarning: lbfgs failed to converge (status=1):\n",
      "STOP: TOTAL NO. of ITERATIONS REACHED LIMIT.\n",
      "\n",
      "Increase the number of iterations (max_iter) or scale the data as shown in:\n",
      "    https://scikit-learn.org/stable/modules/preprocessing.html\n",
      "Please also refer to the documentation for alternative solver options:\n",
      "    https://scikit-learn.org/stable/modules/linear_model.html#logistic-regression\n",
      "  n_iter_i = _check_optimize_result(\n"
     ]
    },
    {
     "data": {
      "text/plain": [
       "LogisticRegression()"
      ]
     },
     "execution_count": 33,
     "metadata": {},
     "output_type": "execute_result"
    }
   ],
   "source": [
    "logmodel2 = LogisticRegression()\n",
    "logmodel2.fit(x_train,y_train)"
   ]
  },
  {
   "cell_type": "code",
   "execution_count": 34,
   "metadata": {},
   "outputs": [],
   "source": [
    "new_predict = logmodel2.predict(x_test)"
   ]
  },
  {
   "cell_type": "code",
   "execution_count": 35,
   "metadata": {},
   "outputs": [
    {
     "name": "stdout",
     "output_type": "stream",
     "text": [
      "              precision    recall  f1-score   support\n",
      "\n",
      "           0       0.88      0.94      0.91      2297\n",
      "           1       0.60      0.41      0.49       490\n",
      "\n",
      "    accuracy                           0.85      2787\n",
      "   macro avg       0.74      0.68      0.70      2787\n",
      "weighted avg       0.83      0.85      0.84      2787\n",
      "\n"
     ]
    }
   ],
   "source": [
    "from sklearn.metrics import classification_report\n",
    "print(classification_report(y_test,new_predict))"
   ]
  },
  {
   "cell_type": "markdown",
   "metadata": {},
   "source": [
    "REPEAT ONCE MORE WITHOUT OFFENSIVE REBOUNDING"
   ]
  },
  {
   "cell_type": "code",
   "execution_count": 36,
   "metadata": {},
   "outputs": [],
   "source": [
    "x = nba[[\"reb\",\"pts\",\"ast\",\"usg_pct\",\"ts_pct\",\"dreb_pct\",\"player_weight\"]]\n",
    "y = nba[\"is_center\"]"
   ]
  },
  {
   "cell_type": "code",
   "execution_count": 37,
   "metadata": {},
   "outputs": [
    {
     "name": "stdout",
     "output_type": "stream",
     "text": [
      "Optimization terminated successfully.\n",
      "         Current function value: 0.298275\n",
      "         Iterations 8\n"
     ]
    },
    {
     "data": {
      "text/html": [
       "<table class=\"simpletable\">\n",
       "<caption>Logit Regression Results</caption>\n",
       "<tr>\n",
       "  <th>Dep. Variable:</th>       <td>is_center</td>    <th>  No. Observations:  </th>  <td> 11145</td> \n",
       "</tr>\n",
       "<tr>\n",
       "  <th>Model:</th>                 <td>Logit</td>      <th>  Df Residuals:      </th>  <td> 11137</td> \n",
       "</tr>\n",
       "<tr>\n",
       "  <th>Method:</th>                 <td>MLE</td>       <th>  Df Model:          </th>  <td>     7</td> \n",
       "</tr>\n",
       "<tr>\n",
       "  <th>Date:</th>            <td>Mon, 03 May 2021</td> <th>  Pseudo R-squ.:     </th>  <td>0.3626</td> \n",
       "</tr>\n",
       "<tr>\n",
       "  <th>Time:</th>                <td>23:55:47</td>     <th>  Log-Likelihood:    </th> <td> -3324.3</td>\n",
       "</tr>\n",
       "<tr>\n",
       "  <th>converged:</th>             <td>True</td>       <th>  LL-Null:           </th> <td> -5215.4</td>\n",
       "</tr>\n",
       "<tr>\n",
       "  <th>Covariance Type:</th>     <td>nonrobust</td>    <th>  LLR p-value:       </th>  <td> 0.000</td> \n",
       "</tr>\n",
       "</table>\n",
       "<table class=\"simpletable\">\n",
       "<tr>\n",
       "        <td></td>           <th>coef</th>     <th>std err</th>      <th>z</th>      <th>P>|z|</th>  <th>[0.025</th>    <th>0.975]</th>  \n",
       "</tr>\n",
       "<tr>\n",
       "  <th>Intercept</th>     <td>  -16.0219</td> <td>    0.487</td> <td>  -32.923</td> <td> 0.000</td> <td>  -16.976</td> <td>  -15.068</td>\n",
       "</tr>\n",
       "<tr>\n",
       "  <th>reb</th>           <td>    0.2358</td> <td>    0.024</td> <td>    9.674</td> <td> 0.000</td> <td>    0.188</td> <td>    0.284</td>\n",
       "</tr>\n",
       "<tr>\n",
       "  <th>pts</th>           <td>   -0.0808</td> <td>    0.016</td> <td>   -5.180</td> <td> 0.000</td> <td>   -0.111</td> <td>   -0.050</td>\n",
       "</tr>\n",
       "<tr>\n",
       "  <th>ast</th>           <td>   -0.3355</td> <td>    0.049</td> <td>   -6.784</td> <td> 0.000</td> <td>   -0.432</td> <td>   -0.239</td>\n",
       "</tr>\n",
       "<tr>\n",
       "  <th>usg_pct</th>       <td>    2.8026</td> <td>    0.856</td> <td>    3.276</td> <td> 0.001</td> <td>    1.126</td> <td>    4.480</td>\n",
       "</tr>\n",
       "<tr>\n",
       "  <th>ts_pct</th>        <td>    0.7401</td> <td>    0.351</td> <td>    2.108</td> <td> 0.035</td> <td>    0.052</td> <td>    1.428</td>\n",
       "</tr>\n",
       "<tr>\n",
       "  <th>dreb_pct</th>      <td>    3.9266</td> <td>    0.663</td> <td>    5.923</td> <td> 0.000</td> <td>    2.627</td> <td>    5.226</td>\n",
       "</tr>\n",
       "<tr>\n",
       "  <th>player_weight</th> <td>    0.1217</td> <td>    0.004</td> <td>   30.100</td> <td> 0.000</td> <td>    0.114</td> <td>    0.130</td>\n",
       "</tr>\n",
       "</table>"
      ],
      "text/plain": [
       "<class 'statsmodels.iolib.summary.Summary'>\n",
       "\"\"\"\n",
       "                           Logit Regression Results                           \n",
       "==============================================================================\n",
       "Dep. Variable:              is_center   No. Observations:                11145\n",
       "Model:                          Logit   Df Residuals:                    11137\n",
       "Method:                           MLE   Df Model:                            7\n",
       "Date:                Mon, 03 May 2021   Pseudo R-squ.:                  0.3626\n",
       "Time:                        23:55:47   Log-Likelihood:                -3324.3\n",
       "converged:                       True   LL-Null:                       -5215.4\n",
       "Covariance Type:            nonrobust   LLR p-value:                     0.000\n",
       "=================================================================================\n",
       "                    coef    std err          z      P>|z|      [0.025      0.975]\n",
       "---------------------------------------------------------------------------------\n",
       "Intercept       -16.0219      0.487    -32.923      0.000     -16.976     -15.068\n",
       "reb               0.2358      0.024      9.674      0.000       0.188       0.284\n",
       "pts              -0.0808      0.016     -5.180      0.000      -0.111      -0.050\n",
       "ast              -0.3355      0.049     -6.784      0.000      -0.432      -0.239\n",
       "usg_pct           2.8026      0.856      3.276      0.001       1.126       4.480\n",
       "ts_pct            0.7401      0.351      2.108      0.035       0.052       1.428\n",
       "dreb_pct          3.9266      0.663      5.923      0.000       2.627       5.226\n",
       "player_weight     0.1217      0.004     30.100      0.000       0.114       0.130\n",
       "=================================================================================\n",
       "\"\"\""
      ]
     },
     "execution_count": 37,
     "metadata": {},
     "output_type": "execute_result"
    }
   ],
   "source": [
    "logit_model3 = smf.logit(\"is_center ~ reb + pts + ast + usg_pct + ts_pct + dreb_pct + player_weight\",data=nba).fit()\n",
    "logit_model3.summary()"
   ]
  },
  {
   "cell_type": "code",
   "execution_count": 38,
   "metadata": {},
   "outputs": [
    {
     "data": {
      "text/plain": [
       "array([[8651.,  513.],\n",
       "       [1166.,  815.]])"
      ]
     },
     "execution_count": 38,
     "metadata": {},
     "output_type": "execute_result"
    }
   ],
   "source": [
    "confusion_matrix = logit_model3.pred_table()\n",
    "confusion_matrix"
   ]
  },
  {
   "cell_type": "code",
   "execution_count": 39,
   "metadata": {},
   "outputs": [],
   "source": [
    "x_train,x_test,y_train,y_test = train_test_split(x,y)"
   ]
  },
  {
   "cell_type": "code",
   "execution_count": 40,
   "metadata": {},
   "outputs": [
    {
     "name": "stderr",
     "output_type": "stream",
     "text": [
      "/Users/henryovalle/opt/anaconda3/lib/python3.8/site-packages/sklearn/linear_model/_logistic.py:762: ConvergenceWarning: lbfgs failed to converge (status=1):\n",
      "STOP: TOTAL NO. of ITERATIONS REACHED LIMIT.\n",
      "\n",
      "Increase the number of iterations (max_iter) or scale the data as shown in:\n",
      "    https://scikit-learn.org/stable/modules/preprocessing.html\n",
      "Please also refer to the documentation for alternative solver options:\n",
      "    https://scikit-learn.org/stable/modules/linear_model.html#logistic-regression\n",
      "  n_iter_i = _check_optimize_result(\n"
     ]
    },
    {
     "data": {
      "text/plain": [
       "LogisticRegression()"
      ]
     },
     "execution_count": 40,
     "metadata": {},
     "output_type": "execute_result"
    }
   ],
   "source": [
    "logmodel2 = LogisticRegression()\n",
    "logmodel2.fit(x_train,y_train)"
   ]
  },
  {
   "cell_type": "code",
   "execution_count": 41,
   "metadata": {},
   "outputs": [],
   "source": [
    "new_predict = logmodel2.predict(x_test)"
   ]
  },
  {
   "cell_type": "code",
   "execution_count": 42,
   "metadata": {},
   "outputs": [
    {
     "name": "stdout",
     "output_type": "stream",
     "text": [
      "              precision    recall  f1-score   support\n",
      "\n",
      "           0       0.88      0.94      0.91      2289\n",
      "           1       0.60      0.43      0.50       498\n",
      "\n",
      "    accuracy                           0.85      2787\n",
      "   macro avg       0.74      0.68      0.70      2787\n",
      "weighted avg       0.83      0.85      0.84      2787\n",
      "\n"
     ]
    }
   ],
   "source": [
    "from sklearn.metrics import classification_report\n",
    "print(classification_report(y_test,new_predict))"
   ]
  },
  {
   "cell_type": "markdown",
   "metadata": {},
   "source": [
    "## K-NEAREST NEIGHBORS REGRESSION"
   ]
  },
  {
   "cell_type": "markdown",
   "metadata": {},
   "source": [
    "FILTER DATA FOR PLAYERS AVERAGING AT LEAST 2.0 POINTS"
   ]
  },
  {
   "cell_type": "code",
   "execution_count": 43,
   "metadata": {},
   "outputs": [
    {
     "name": "stderr",
     "output_type": "stream",
     "text": [
      "<ipython-input-43-42962df2f8a4>:4: SettingWithCopyWarning: \n",
      "A value is trying to be set on a copy of a slice from a DataFrame.\n",
      "Try using .loc[row_indexer,col_indexer] = value instead\n",
      "\n",
      "See the caveats in the documentation: https://pandas.pydata.org/pandas-docs/stable/user_guide/indexing.html#returning-a-view-versus-a-copy\n",
      "  nba_pts[\"year\"] = nba_pts[\"season\"].dt.year\n",
      "/Users/henryovalle/opt/anaconda3/lib/python3.8/site-packages/pandas/core/frame.py:4163: SettingWithCopyWarning: \n",
      "A value is trying to be set on a copy of a slice from a DataFrame\n",
      "\n",
      "See the caveats in the documentation: https://pandas.pydata.org/pandas-docs/stable/user_guide/indexing.html#returning-a-view-versus-a-copy\n",
      "  return super().drop(\n"
     ]
    },
    {
     "data": {
      "text/html": [
       "<div>\n",
       "<style scoped>\n",
       "    .dataframe tbody tr th:only-of-type {\n",
       "        vertical-align: middle;\n",
       "    }\n",
       "\n",
       "    .dataframe tbody tr th {\n",
       "        vertical-align: top;\n",
       "    }\n",
       "\n",
       "    .dataframe thead th {\n",
       "        text-align: right;\n",
       "    }\n",
       "</style>\n",
       "<table border=\"1\" class=\"dataframe\">\n",
       "  <thead>\n",
       "    <tr style=\"text-align: right;\">\n",
       "      <th></th>\n",
       "      <th>player_height</th>\n",
       "      <th>player_weight</th>\n",
       "      <th>gp</th>\n",
       "      <th>pts</th>\n",
       "      <th>reb</th>\n",
       "      <th>ast</th>\n",
       "      <th>oreb_pct</th>\n",
       "      <th>dreb_pct</th>\n",
       "      <th>usg_pct</th>\n",
       "      <th>ts_pct</th>\n",
       "      <th>ast_pct</th>\n",
       "      <th>year</th>\n",
       "    </tr>\n",
       "  </thead>\n",
       "  <tbody>\n",
       "    <tr>\n",
       "      <th>0</th>\n",
       "      <td>198.12</td>\n",
       "      <td>99.790240</td>\n",
       "      <td>55</td>\n",
       "      <td>5.7</td>\n",
       "      <td>16.1</td>\n",
       "      <td>3.1</td>\n",
       "      <td>0.186</td>\n",
       "      <td>0.323</td>\n",
       "      <td>0.100</td>\n",
       "      <td>0.479</td>\n",
       "      <td>0.113</td>\n",
       "      <td>1996</td>\n",
       "    </tr>\n",
       "    <tr>\n",
       "      <th>1</th>\n",
       "      <td>215.90</td>\n",
       "      <td>117.933920</td>\n",
       "      <td>15</td>\n",
       "      <td>2.3</td>\n",
       "      <td>1.5</td>\n",
       "      <td>0.3</td>\n",
       "      <td>0.078</td>\n",
       "      <td>0.151</td>\n",
       "      <td>0.175</td>\n",
       "      <td>0.430</td>\n",
       "      <td>0.048</td>\n",
       "      <td>1996</td>\n",
       "    </tr>\n",
       "    <tr>\n",
       "      <th>3</th>\n",
       "      <td>203.20</td>\n",
       "      <td>100.697424</td>\n",
       "      <td>64</td>\n",
       "      <td>3.7</td>\n",
       "      <td>2.3</td>\n",
       "      <td>0.6</td>\n",
       "      <td>0.060</td>\n",
       "      <td>0.149</td>\n",
       "      <td>0.167</td>\n",
       "      <td>0.399</td>\n",
       "      <td>0.077</td>\n",
       "      <td>1996</td>\n",
       "    </tr>\n",
       "    <tr>\n",
       "      <th>4</th>\n",
       "      <td>205.74</td>\n",
       "      <td>108.862080</td>\n",
       "      <td>27</td>\n",
       "      <td>2.4</td>\n",
       "      <td>2.4</td>\n",
       "      <td>0.2</td>\n",
       "      <td>0.109</td>\n",
       "      <td>0.179</td>\n",
       "      <td>0.127</td>\n",
       "      <td>0.611</td>\n",
       "      <td>0.040</td>\n",
       "      <td>1996</td>\n",
       "    </tr>\n",
       "    <tr>\n",
       "      <th>5</th>\n",
       "      <td>200.66</td>\n",
       "      <td>97.522280</td>\n",
       "      <td>52</td>\n",
       "      <td>8.2</td>\n",
       "      <td>2.7</td>\n",
       "      <td>1.0</td>\n",
       "      <td>0.034</td>\n",
       "      <td>0.126</td>\n",
       "      <td>0.220</td>\n",
       "      <td>0.541</td>\n",
       "      <td>0.102</td>\n",
       "      <td>1996</td>\n",
       "    </tr>\n",
       "    <tr>\n",
       "      <th>...</th>\n",
       "      <td>...</td>\n",
       "      <td>...</td>\n",
       "      <td>...</td>\n",
       "      <td>...</td>\n",
       "      <td>...</td>\n",
       "      <td>...</td>\n",
       "      <td>...</td>\n",
       "      <td>...</td>\n",
       "      <td>...</td>\n",
       "      <td>...</td>\n",
       "      <td>...</td>\n",
       "      <td>...</td>\n",
       "    </tr>\n",
       "    <tr>\n",
       "      <th>11139</th>\n",
       "      <td>195.58</td>\n",
       "      <td>97.522280</td>\n",
       "      <td>2</td>\n",
       "      <td>2.5</td>\n",
       "      <td>0.5</td>\n",
       "      <td>0.0</td>\n",
       "      <td>0.167</td>\n",
       "      <td>0.000</td>\n",
       "      <td>0.158</td>\n",
       "      <td>0.727</td>\n",
       "      <td>0.000</td>\n",
       "      <td>2019</td>\n",
       "    </tr>\n",
       "    <tr>\n",
       "      <th>11140</th>\n",
       "      <td>208.28</td>\n",
       "      <td>108.862080</td>\n",
       "      <td>63</td>\n",
       "      <td>9.1</td>\n",
       "      <td>5.4</td>\n",
       "      <td>1.1</td>\n",
       "      <td>0.056</td>\n",
       "      <td>0.140</td>\n",
       "      <td>0.136</td>\n",
       "      <td>0.605</td>\n",
       "      <td>0.064</td>\n",
       "      <td>2019</td>\n",
       "    </tr>\n",
       "    <tr>\n",
       "      <th>11142</th>\n",
       "      <td>213.36</td>\n",
       "      <td>117.933920</td>\n",
       "      <td>49</td>\n",
       "      <td>6.1</td>\n",
       "      <td>5.1</td>\n",
       "      <td>1.1</td>\n",
       "      <td>0.029</td>\n",
       "      <td>0.217</td>\n",
       "      <td>0.120</td>\n",
       "      <td>0.640</td>\n",
       "      <td>0.076</td>\n",
       "      <td>2019</td>\n",
       "    </tr>\n",
       "    <tr>\n",
       "      <th>11143</th>\n",
       "      <td>208.28</td>\n",
       "      <td>104.779752</td>\n",
       "      <td>20</td>\n",
       "      <td>2.1</td>\n",
       "      <td>3.0</td>\n",
       "      <td>0.4</td>\n",
       "      <td>0.085</td>\n",
       "      <td>0.237</td>\n",
       "      <td>0.126</td>\n",
       "      <td>0.521</td>\n",
       "      <td>0.056</td>\n",
       "      <td>2019</td>\n",
       "    </tr>\n",
       "    <tr>\n",
       "      <th>11144</th>\n",
       "      <td>193.04</td>\n",
       "      <td>86.182480</td>\n",
       "      <td>31</td>\n",
       "      <td>4.5</td>\n",
       "      <td>1.4</td>\n",
       "      <td>0.5</td>\n",
       "      <td>0.017</td>\n",
       "      <td>0.104</td>\n",
       "      <td>0.149</td>\n",
       "      <td>0.663</td>\n",
       "      <td>0.089</td>\n",
       "      <td>2019</td>\n",
       "    </tr>\n",
       "  </tbody>\n",
       "</table>\n",
       "<p>9963 rows × 12 columns</p>\n",
       "</div>"
      ],
      "text/plain": [
       "       player_height  player_weight  gp  pts   reb  ast  oreb_pct  dreb_pct  \\\n",
       "0             198.12      99.790240  55  5.7  16.1  3.1     0.186     0.323   \n",
       "1             215.90     117.933920  15  2.3   1.5  0.3     0.078     0.151   \n",
       "3             203.20     100.697424  64  3.7   2.3  0.6     0.060     0.149   \n",
       "4             205.74     108.862080  27  2.4   2.4  0.2     0.109     0.179   \n",
       "5             200.66      97.522280  52  8.2   2.7  1.0     0.034     0.126   \n",
       "...              ...            ...  ..  ...   ...  ...       ...       ...   \n",
       "11139         195.58      97.522280   2  2.5   0.5  0.0     0.167     0.000   \n",
       "11140         208.28     108.862080  63  9.1   5.4  1.1     0.056     0.140   \n",
       "11142         213.36     117.933920  49  6.1   5.1  1.1     0.029     0.217   \n",
       "11143         208.28     104.779752  20  2.1   3.0  0.4     0.085     0.237   \n",
       "11144         193.04      86.182480  31  4.5   1.4  0.5     0.017     0.104   \n",
       "\n",
       "       usg_pct  ts_pct  ast_pct  year  \n",
       "0        0.100   0.479    0.113  1996  \n",
       "1        0.175   0.430    0.048  1996  \n",
       "3        0.167   0.399    0.077  1996  \n",
       "4        0.127   0.611    0.040  1996  \n",
       "5        0.220   0.541    0.102  1996  \n",
       "...        ...     ...      ...   ...  \n",
       "11139    0.158   0.727    0.000  2019  \n",
       "11140    0.136   0.605    0.064  2019  \n",
       "11142    0.120   0.640    0.076  2019  \n",
       "11143    0.126   0.521    0.056  2019  \n",
       "11144    0.149   0.663    0.089  2019  \n",
       "\n",
       "[9963 rows x 12 columns]"
      ]
     },
     "execution_count": 43,
     "metadata": {},
     "output_type": "execute_result"
    }
   ],
   "source": [
    "new_nba = nba.drop(columns = [\"player_name\", \"team_abbreviation\",\"age\",\"college\",\"country\",\"draft_year\",\"draft_round\",\"draft_number\",\"is_center\",\"position\",\"net_rating\"])\n",
    "pts_filter = new_nba[\"pts\"] >= 2.0\n",
    "nba_pts = new_nba[pts_filter]\n",
    "nba_pts[\"year\"] = nba_pts[\"season\"].dt.year\n",
    "nba_pts.drop(columns = [\"season\"], inplace = True)\n",
    "nba_pts"
   ]
  },
  {
   "cell_type": "markdown",
   "metadata": {},
   "source": [
    "CREATE VARIABLES FOR SPLIT"
   ]
  },
  {
   "cell_type": "code",
   "execution_count": 44,
   "metadata": {},
   "outputs": [],
   "source": [
    "x = nba_pts.drop(columns = [\"pts\"])\n",
    "y = nba_pts[\"pts\"]"
   ]
  },
  {
   "cell_type": "code",
   "execution_count": 45,
   "metadata": {},
   "outputs": [],
   "source": [
    "x_train,x_test,y_train,y_test = train_test_split(x,y,test_size = 0.2)"
   ]
  },
  {
   "cell_type": "code",
   "execution_count": 46,
   "metadata": {},
   "outputs": [],
   "source": [
    "scaler = MinMaxScaler()"
   ]
  },
  {
   "cell_type": "code",
   "execution_count": 47,
   "metadata": {},
   "outputs": [],
   "source": [
    "x_train_scaled = scaler.fit_transform(x_train)\n",
    "x_test_scaled = scaler.fit_transform(x_test)"
   ]
  },
  {
   "cell_type": "markdown",
   "metadata": {},
   "source": [
    "CREATE KNN MODEL AND EVALUATE MSE VALUES FOR DIFFERENT K-VALUES"
   ]
  },
  {
   "cell_type": "code",
   "execution_count": 48,
   "metadata": {},
   "outputs": [
    {
     "name": "stdout",
     "output_type": "stream",
     "text": [
      "Now computing MSE for k=  5\n",
      "Now computing MSE for k=  6\n",
      "Now computing MSE for k=  7\n",
      "Now computing MSE for k=  8\n",
      "Now computing MSE for k=  9\n",
      "Now computing MSE for k=  10\n",
      "Now computing MSE for k=  11\n",
      "Now computing MSE for k=  12\n",
      "Now computing MSE for k=  13\n",
      "Now computing MSE for k=  14\n",
      "Now computing MSE for k=  15\n"
     ]
    }
   ],
   "source": [
    "mses = []\n",
    "for k in range(5,16):\n",
    "    print(\"Now computing MSE for k= \",k)\n",
    "    iknn_scaled = KNeighborsRegressor(n_neighbors = k)\n",
    "    iknn_scaled.fit(x_train_scaled, y_train)\n",
    "    iy_pred_scaled = iknn_scaled.predict(x_test_scaled)\n",
    "    mse = mean_squared_error(iy_pred_scaled, y_test)\n",
    "    mses.append(mse)"
   ]
  },
  {
   "cell_type": "code",
   "execution_count": 49,
   "metadata": {},
   "outputs": [
    {
     "data": {
      "text/plain": [
       "Text(0.5, 1.0, 'MSE for different numbers of neighbors')"
      ]
     },
     "execution_count": 49,
     "metadata": {},
     "output_type": "execute_result"
    },
    {
     "data": {
      "image/png": "[encoded data removed]",
      "text/plain": [
       "<Figure size 432x288 with 1 Axes>"
      ]
     },
     "metadata": {},
     "output_type": "display_data"
    }
   ],
   "source": [
    "x = [5,6,7,8,9,10,11,12,13,14,15]\n",
    "plt.plot(x,mses)\n",
    "plt.xlabel(\"k\")\n",
    "plt.ylabel(\"MSE\")\n",
    "plt.title(\"MSE for different numbers of neighbors\")"
   ]
  },
  {
   "cell_type": "code",
   "execution_count": 50,
   "metadata": {},
   "outputs": [
    {
     "data": {
      "text/plain": [
       "[6.376780531861515,\n",
       " 6.147538189217817,\n",
       " 5.986681343887279,\n",
       " 5.952921004766683,\n",
       " 5.833897034683119,\n",
       " 5.715329101856498,\n",
       " 5.738629832512969,\n",
       " 5.689063806656631,\n",
       " 5.650424948859469,\n",
       " 5.52111361704742,\n",
       " 5.532047432681051]"
      ]
     },
     "execution_count": 50,
     "metadata": {},
     "output_type": "execute_result"
    }
   ],
   "source": [
    "mses"
   ]
  },
  {
   "cell_type": "markdown",
   "metadata": {},
   "source": [
    "## LINEAR REGRESSION"
   ]
  },
  {
   "cell_type": "markdown",
   "metadata": {},
   "source": [
    "Filter like previous model"
   ]
  },
  {
   "cell_type": "code",
   "execution_count": 86,
   "metadata": {},
   "outputs": [
    {
     "name": "stderr",
     "output_type": "stream",
     "text": [
      "<ipython-input-86-a6a6414a51a9>:4: SettingWithCopyWarning: \n",
      "A value is trying to be set on a copy of a slice from a DataFrame.\n",
      "Try using .loc[row_indexer,col_indexer] = value instead\n",
      "\n",
      "See the caveats in the documentation: https://pandas.pydata.org/pandas-docs/stable/user_guide/indexing.html#returning-a-view-versus-a-copy\n",
      "  nba_pts[\"year\"] = nba_pts[\"season\"].dt.year\n",
      "/Users/henryovalle/opt/anaconda3/lib/python3.8/site-packages/pandas/core/frame.py:4163: SettingWithCopyWarning: \n",
      "A value is trying to be set on a copy of a slice from a DataFrame\n",
      "\n",
      "See the caveats in the documentation: https://pandas.pydata.org/pandas-docs/stable/user_guide/indexing.html#returning-a-view-versus-a-copy\n",
      "  return super().drop(\n"
     ]
    },
    {
     "data": {
      "text/html": [
       "<div>\n",
       "<style scoped>\n",
       "    .dataframe tbody tr th:only-of-type {\n",
       "        vertical-align: middle;\n",
       "    }\n",
       "\n",
       "    .dataframe tbody tr th {\n",
       "        vertical-align: top;\n",
       "    }\n",
       "\n",
       "    .dataframe thead th {\n",
       "        text-align: right;\n",
       "    }\n",
       "</style>\n",
       "<table border=\"1\" class=\"dataframe\">\n",
       "  <thead>\n",
       "    <tr style=\"text-align: right;\">\n",
       "      <th></th>\n",
       "      <th>player_height</th>\n",
       "      <th>player_weight</th>\n",
       "      <th>gp</th>\n",
       "      <th>pts</th>\n",
       "      <th>reb</th>\n",
       "      <th>ast</th>\n",
       "      <th>oreb_pct</th>\n",
       "      <th>dreb_pct</th>\n",
       "      <th>usg_pct</th>\n",
       "      <th>ts_pct</th>\n",
       "      <th>ast_pct</th>\n",
       "      <th>year</th>\n",
       "    </tr>\n",
       "  </thead>\n",
       "  <tbody>\n",
       "    <tr>\n",
       "      <th>0</th>\n",
       "      <td>198.12</td>\n",
       "      <td>99.790240</td>\n",
       "      <td>55</td>\n",
       "      <td>5.7</td>\n",
       "      <td>16.1</td>\n",
       "      <td>3.1</td>\n",
       "      <td>0.186</td>\n",
       "      <td>0.323</td>\n",
       "      <td>0.100</td>\n",
       "      <td>0.479</td>\n",
       "      <td>0.113</td>\n",
       "      <td>1996</td>\n",
       "    </tr>\n",
       "    <tr>\n",
       "      <th>1</th>\n",
       "      <td>215.90</td>\n",
       "      <td>117.933920</td>\n",
       "      <td>15</td>\n",
       "      <td>2.3</td>\n",
       "      <td>1.5</td>\n",
       "      <td>0.3</td>\n",
       "      <td>0.078</td>\n",
       "      <td>0.151</td>\n",
       "      <td>0.175</td>\n",
       "      <td>0.430</td>\n",
       "      <td>0.048</td>\n",
       "      <td>1996</td>\n",
       "    </tr>\n",
       "    <tr>\n",
       "      <th>3</th>\n",
       "      <td>203.20</td>\n",
       "      <td>100.697424</td>\n",
       "      <td>64</td>\n",
       "      <td>3.7</td>\n",
       "      <td>2.3</td>\n",
       "      <td>0.6</td>\n",
       "      <td>0.060</td>\n",
       "      <td>0.149</td>\n",
       "      <td>0.167</td>\n",
       "      <td>0.399</td>\n",
       "      <td>0.077</td>\n",
       "      <td>1996</td>\n",
       "    </tr>\n",
       "    <tr>\n",
       "      <th>4</th>\n",
       "      <td>205.74</td>\n",
       "      <td>108.862080</td>\n",
       "      <td>27</td>\n",
       "      <td>2.4</td>\n",
       "      <td>2.4</td>\n",
       "      <td>0.2</td>\n",
       "      <td>0.109</td>\n",
       "      <td>0.179</td>\n",
       "      <td>0.127</td>\n",
       "      <td>0.611</td>\n",
       "      <td>0.040</td>\n",
       "      <td>1996</td>\n",
       "    </tr>\n",
       "    <tr>\n",
       "      <th>5</th>\n",
       "      <td>200.66</td>\n",
       "      <td>97.522280</td>\n",
       "      <td>52</td>\n",
       "      <td>8.2</td>\n",
       "      <td>2.7</td>\n",
       "      <td>1.0</td>\n",
       "      <td>0.034</td>\n",
       "      <td>0.126</td>\n",
       "      <td>0.220</td>\n",
       "      <td>0.541</td>\n",
       "      <td>0.102</td>\n",
       "      <td>1996</td>\n",
       "    </tr>\n",
       "  </tbody>\n",
       "</table>\n",
       "</div>"
      ],
      "text/plain": [
       "   player_height  player_weight  gp  pts   reb  ast  oreb_pct  dreb_pct  \\\n",
       "0         198.12      99.790240  55  5.7  16.1  3.1     0.186     0.323   \n",
       "1         215.90     117.933920  15  2.3   1.5  0.3     0.078     0.151   \n",
       "3         203.20     100.697424  64  3.7   2.3  0.6     0.060     0.149   \n",
       "4         205.74     108.862080  27  2.4   2.4  0.2     0.109     0.179   \n",
       "5         200.66      97.522280  52  8.2   2.7  1.0     0.034     0.126   \n",
       "\n",
       "   usg_pct  ts_pct  ast_pct  year  \n",
       "0    0.100   0.479    0.113  1996  \n",
       "1    0.175   0.430    0.048  1996  \n",
       "3    0.167   0.399    0.077  1996  \n",
       "4    0.127   0.611    0.040  1996  \n",
       "5    0.220   0.541    0.102  1996  "
      ]
     },
     "execution_count": 86,
     "metadata": {},
     "output_type": "execute_result"
    }
   ],
   "source": [
    "new_nba = nba.drop(columns = [\"player_name\", \"team_abbreviation\",\"age\",\"college\",\"country\",\"draft_year\",\"draft_round\",\"draft_number\",\"is_center\",\"position\",\"net_rating\"])\n",
    "pts_filter = new_nba[\"pts\"] >= 2.0\n",
    "nba_pts = new_nba[pts_filter]\n",
    "nba_pts[\"year\"] = nba_pts[\"season\"].dt.year\n",
    "nba_pts.drop(columns = [\"season\"], inplace = True)\n",
    "nba_pts.head()"
   ]
  },
  {
   "cell_type": "code",
   "execution_count": 83,
   "metadata": {},
   "outputs": [
    {
     "data": {
      "text/html": [
       "<table class=\"simpletable\">\n",
       "<caption>OLS Regression Results</caption>\n",
       "<tr>\n",
       "  <th>Dep. Variable:</th>      <td>player_height</td>  <th>  R-squared:         </th> <td>   0.767</td> \n",
       "</tr>\n",
       "<tr>\n",
       "  <th>Model:</th>                   <td>OLS</td>       <th>  Adj. R-squared:    </th> <td>   0.767</td> \n",
       "</tr>\n",
       "<tr>\n",
       "  <th>Method:</th>             <td>Least Squares</td>  <th>  F-statistic:       </th> <td>   2975.</td> \n",
       "</tr>\n",
       "<tr>\n",
       "  <th>Date:</th>             <td>Tue, 04 May 2021</td> <th>  Prob (F-statistic):</th>  <td>  0.00</td>  \n",
       "</tr>\n",
       "<tr>\n",
       "  <th>Time:</th>                 <td>15:31:55</td>     <th>  Log-Likelihood:    </th> <td> -28964.</td> \n",
       "</tr>\n",
       "<tr>\n",
       "  <th>No. Observations:</th>      <td>  9963</td>      <th>  AIC:               </th> <td>5.795e+04</td>\n",
       "</tr>\n",
       "<tr>\n",
       "  <th>Df Residuals:</th>          <td>  9951</td>      <th>  BIC:               </th> <td>5.804e+04</td>\n",
       "</tr>\n",
       "<tr>\n",
       "  <th>Df Model:</th>              <td>    11</td>      <th>                     </th>     <td> </td>    \n",
       "</tr>\n",
       "<tr>\n",
       "  <th>Covariance Type:</th>      <td>nonrobust</td>    <th>                     </th>     <td> </td>    \n",
       "</tr>\n",
       "</table>\n",
       "<table class=\"simpletable\">\n",
       "<tr>\n",
       "        <td></td>           <th>coef</th>     <th>std err</th>      <th>t</th>      <th>P>|t|</th>  <th>[0.025</th>    <th>0.975]</th>  \n",
       "</tr>\n",
       "<tr>\n",
       "  <th>Intercept</th>     <td>  168.2293</td> <td>   13.571</td> <td>   12.397</td> <td> 0.000</td> <td>  141.628</td> <td>  194.830</td>\n",
       "</tr>\n",
       "<tr>\n",
       "  <th>player_weight</th> <td>    0.3734</td> <td>    0.006</td> <td>   65.860</td> <td> 0.000</td> <td>    0.362</td> <td>    0.385</td>\n",
       "</tr>\n",
       "<tr>\n",
       "  <th>gp</th>            <td>   -0.0049</td> <td>    0.002</td> <td>   -2.061</td> <td> 0.039</td> <td>   -0.010</td> <td>   -0.000</td>\n",
       "</tr>\n",
       "<tr>\n",
       "  <th>pts</th>           <td>    0.0283</td> <td>    0.026</td> <td>    1.107</td> <td> 0.268</td> <td>   -0.022</td> <td>    0.079</td>\n",
       "</tr>\n",
       "<tr>\n",
       "  <th>reb</th>           <td>    0.1173</td> <td>    0.048</td> <td>    2.447</td> <td> 0.014</td> <td>    0.023</td> <td>    0.211</td>\n",
       "</tr>\n",
       "<tr>\n",
       "  <th>ast</th>           <td>    0.1636</td> <td>    0.074</td> <td>    2.224</td> <td> 0.026</td> <td>    0.019</td> <td>    0.308</td>\n",
       "</tr>\n",
       "<tr>\n",
       "  <th>oreb_pct</th>      <td>    8.6577</td> <td>    1.876</td> <td>    4.616</td> <td> 0.000</td> <td>    4.981</td> <td>   12.334</td>\n",
       "</tr>\n",
       "<tr>\n",
       "  <th>dreb_pct</th>      <td>   27.0380</td> <td>    1.545</td> <td>   17.503</td> <td> 0.000</td> <td>   24.010</td> <td>   30.066</td>\n",
       "</tr>\n",
       "<tr>\n",
       "  <th>usg_pct</th>       <td>    1.4055</td> <td>    1.754</td> <td>    0.801</td> <td> 0.423</td> <td>   -2.034</td> <td>    4.845</td>\n",
       "</tr>\n",
       "<tr>\n",
       "  <th>ts_pct</th>        <td>    2.6545</td> <td>    0.771</td> <td>    3.442</td> <td> 0.001</td> <td>    1.143</td> <td>    4.166</td>\n",
       "</tr>\n",
       "<tr>\n",
       "  <th>ast_pct</th>       <td>  -30.7556</td> <td>    1.309</td> <td>  -23.489</td> <td> 0.000</td> <td>  -33.322</td> <td>  -28.189</td>\n",
       "</tr>\n",
       "<tr>\n",
       "  <th>year</th>          <td>   -0.0038</td> <td>    0.007</td> <td>   -0.564</td> <td> 0.573</td> <td>   -0.017</td> <td>    0.009</td>\n",
       "</tr>\n",
       "</table>\n",
       "<table class=\"simpletable\">\n",
       "<tr>\n",
       "  <th>Omnibus:</th>       <td>104.346</td> <th>  Durbin-Watson:     </th> <td>   2.014</td>\n",
       "</tr>\n",
       "<tr>\n",
       "  <th>Prob(Omnibus):</th> <td> 0.000</td>  <th>  Jarque-Bera (JB):  </th> <td> 177.415</td>\n",
       "</tr>\n",
       "<tr>\n",
       "  <th>Skew:</th>          <td>-0.017</td>  <th>  Prob(JB):          </th> <td>2.98e-39</td>\n",
       "</tr>\n",
       "<tr>\n",
       "  <th>Kurtosis:</th>      <td> 3.653</td>  <th>  Cond. No.          </th> <td>6.15e+05</td>\n",
       "</tr>\n",
       "</table><br/><br/>Notes:<br/>[1] Standard Errors assume that the covariance matrix of the errors is correctly specified.<br/>[2] The condition number is large, 6.15e+05. This might indicate that there are<br/>strong multicollinearity or other numerical problems."
      ],
      "text/plain": [
       "<class 'statsmodels.iolib.summary.Summary'>\n",
       "\"\"\"\n",
       "                            OLS Regression Results                            \n",
       "==============================================================================\n",
       "Dep. Variable:          player_height   R-squared:                       0.767\n",
       "Model:                            OLS   Adj. R-squared:                  0.767\n",
       "Method:                 Least Squares   F-statistic:                     2975.\n",
       "Date:                Tue, 04 May 2021   Prob (F-statistic):               0.00\n",
       "Time:                        15:31:55   Log-Likelihood:                -28964.\n",
       "No. Observations:                9963   AIC:                         5.795e+04\n",
       "Df Residuals:                    9951   BIC:                         5.804e+04\n",
       "Df Model:                          11                                         \n",
       "Covariance Type:            nonrobust                                         \n",
       "=================================================================================\n",
       "                    coef    std err          t      P>|t|      [0.025      0.975]\n",
       "---------------------------------------------------------------------------------\n",
       "Intercept       168.2293     13.571     12.397      0.000     141.628     194.830\n",
       "player_weight     0.3734      0.006     65.860      0.000       0.362       0.385\n",
       "gp               -0.0049      0.002     -2.061      0.039      -0.010      -0.000\n",
       "pts               0.0283      0.026      1.107      0.268      -0.022       0.079\n",
       "reb               0.1173      0.048      2.447      0.014       0.023       0.211\n",
       "ast               0.1636      0.074      2.224      0.026       0.019       0.308\n",
       "oreb_pct          8.6577      1.876      4.616      0.000       4.981      12.334\n",
       "dreb_pct         27.0380      1.545     17.503      0.000      24.010      30.066\n",
       "usg_pct           1.4055      1.754      0.801      0.423      -2.034       4.845\n",
       "ts_pct            2.6545      0.771      3.442      0.001       1.143       4.166\n",
       "ast_pct         -30.7556      1.309    -23.489      0.000     -33.322     -28.189\n",
       "year             -0.0038      0.007     -0.564      0.573      -0.017       0.009\n",
       "==============================================================================\n",
       "Omnibus:                      104.346   Durbin-Watson:                   2.014\n",
       "Prob(Omnibus):                  0.000   Jarque-Bera (JB):              177.415\n",
       "Skew:                          -0.017   Prob(JB):                     2.98e-39\n",
       "Kurtosis:                       3.653   Cond. No.                     6.15e+05\n",
       "==============================================================================\n",
       "\n",
       "Notes:\n",
       "[1] Standard Errors assume that the covariance matrix of the errors is correctly specified.\n",
       "[2] The condition number is large, 6.15e+05. This might indicate that there are\n",
       "strong multicollinearity or other numerical problems.\n",
       "\"\"\""
      ]
     },
     "execution_count": 83,
     "metadata": {},
     "output_type": "execute_result"
    }
   ],
   "source": [
    "linreg = smf.ols(\"player_height ~ player_weight + gp + pts + reb + ast + oreb_pct + dreb_pct + usg_pct + ts_pct + ast_pct + year\",data=nba_pts).fit()\n",
    "linreg.summary()"
   ]
  },
  {
   "cell_type": "code",
   "execution_count": 87,
   "metadata": {},
   "outputs": [
    {
     "data": {
      "text/html": [
       "<table class=\"simpletable\">\n",
       "<caption>OLS Regression Results</caption>\n",
       "<tr>\n",
       "  <th>Dep. Variable:</th>      <td>player_height</td>  <th>  R-squared:         </th> <td>   0.767</td> \n",
       "</tr>\n",
       "<tr>\n",
       "  <th>Model:</th>                   <td>OLS</td>       <th>  Adj. R-squared:    </th> <td>   0.767</td> \n",
       "</tr>\n",
       "<tr>\n",
       "  <th>Method:</th>             <td>Least Squares</td>  <th>  F-statistic:       </th> <td>   4089.</td> \n",
       "</tr>\n",
       "<tr>\n",
       "  <th>Date:</th>             <td>Tue, 04 May 2021</td> <th>  Prob (F-statistic):</th>  <td>  0.00</td>  \n",
       "</tr>\n",
       "<tr>\n",
       "  <th>Time:</th>                 <td>15:35:02</td>     <th>  Log-Likelihood:    </th> <td> -28967.</td> \n",
       "</tr>\n",
       "<tr>\n",
       "  <th>No. Observations:</th>      <td>  9963</td>      <th>  AIC:               </th> <td>5.795e+04</td>\n",
       "</tr>\n",
       "<tr>\n",
       "  <th>Df Residuals:</th>          <td>  9954</td>      <th>  BIC:               </th> <td>5.802e+04</td>\n",
       "</tr>\n",
       "<tr>\n",
       "  <th>Df Model:</th>              <td>     8</td>      <th>                     </th>     <td> </td>    \n",
       "</tr>\n",
       "<tr>\n",
       "  <th>Covariance Type:</th>      <td>nonrobust</td>    <th>                     </th>     <td> </td>    \n",
       "</tr>\n",
       "</table>\n",
       "<table class=\"simpletable\">\n",
       "<tr>\n",
       "        <td></td>           <th>coef</th>     <th>std err</th>      <th>t</th>      <th>P>|t|</th>  <th>[0.025</th>    <th>0.975]</th>  \n",
       "</tr>\n",
       "<tr>\n",
       "  <th>Intercept</th>     <td>  160.1365</td> <td>    0.663</td> <td>  241.503</td> <td> 0.000</td> <td>  158.837</td> <td>  161.436</td>\n",
       "</tr>\n",
       "<tr>\n",
       "  <th>player_weight</th> <td>    0.3735</td> <td>    0.006</td> <td>   65.887</td> <td> 0.000</td> <td>    0.362</td> <td>    0.385</td>\n",
       "</tr>\n",
       "<tr>\n",
       "  <th>reb</th>           <td>    0.1342</td> <td>    0.033</td> <td>    4.049</td> <td> 0.000</td> <td>    0.069</td> <td>    0.199</td>\n",
       "</tr>\n",
       "<tr>\n",
       "  <th>ast</th>           <td>    0.1876</td> <td>    0.059</td> <td>    3.184</td> <td> 0.001</td> <td>    0.072</td> <td>    0.303</td>\n",
       "</tr>\n",
       "<tr>\n",
       "  <th>oreb_pct</th>      <td>    8.3932</td> <td>    1.691</td> <td>    4.963</td> <td> 0.000</td> <td>    5.078</td> <td>   11.708</td>\n",
       "</tr>\n",
       "<tr>\n",
       "  <th>dreb_pct</th>      <td>   26.6540</td> <td>    1.388</td> <td>   19.199</td> <td> 0.000</td> <td>   23.933</td> <td>   29.375</td>\n",
       "</tr>\n",
       "<tr>\n",
       "  <th>usg_pct</th>       <td>    3.2458</td> <td>    1.022</td> <td>    3.174</td> <td> 0.002</td> <td>    1.242</td> <td>    5.250</td>\n",
       "</tr>\n",
       "<tr>\n",
       "  <th>ts_pct</th>        <td>    2.7409</td> <td>    0.704</td> <td>    3.896</td> <td> 0.000</td> <td>    1.362</td> <td>    4.120</td>\n",
       "</tr>\n",
       "<tr>\n",
       "  <th>ast_pct</th>       <td>  -31.1150</td> <td>    1.140</td> <td>  -27.288</td> <td> 0.000</td> <td>  -33.350</td> <td>  -28.880</td>\n",
       "</tr>\n",
       "</table>\n",
       "<table class=\"simpletable\">\n",
       "<tr>\n",
       "  <th>Omnibus:</th>       <td>103.240</td> <th>  Durbin-Watson:     </th> <td>   2.014</td>\n",
       "</tr>\n",
       "<tr>\n",
       "  <th>Prob(Omnibus):</th> <td> 0.000</td>  <th>  Jarque-Bera (JB):  </th> <td> 175.063</td>\n",
       "</tr>\n",
       "<tr>\n",
       "  <th>Skew:</th>          <td>-0.016</td>  <th>  Prob(JB):          </th> <td>9.67e-39</td>\n",
       "</tr>\n",
       "<tr>\n",
       "  <th>Kurtosis:</th>      <td> 3.649</td>  <th>  Cond. No.          </th> <td>4.02e+03</td>\n",
       "</tr>\n",
       "</table><br/><br/>Notes:<br/>[1] Standard Errors assume that the covariance matrix of the errors is correctly specified.<br/>[2] The condition number is large, 4.02e+03. This might indicate that there are<br/>strong multicollinearity or other numerical problems."
      ],
      "text/plain": [
       "<class 'statsmodels.iolib.summary.Summary'>\n",
       "\"\"\"\n",
       "                            OLS Regression Results                            \n",
       "==============================================================================\n",
       "Dep. Variable:          player_height   R-squared:                       0.767\n",
       "Model:                            OLS   Adj. R-squared:                  0.767\n",
       "Method:                 Least Squares   F-statistic:                     4089.\n",
       "Date:                Tue, 04 May 2021   Prob (F-statistic):               0.00\n",
       "Time:                        15:35:02   Log-Likelihood:                -28967.\n",
       "No. Observations:                9963   AIC:                         5.795e+04\n",
       "Df Residuals:                    9954   BIC:                         5.802e+04\n",
       "Df Model:                           8                                         \n",
       "Covariance Type:            nonrobust                                         \n",
       "=================================================================================\n",
       "                    coef    std err          t      P>|t|      [0.025      0.975]\n",
       "---------------------------------------------------------------------------------\n",
       "Intercept       160.1365      0.663    241.503      0.000     158.837     161.436\n",
       "player_weight     0.3735      0.006     65.887      0.000       0.362       0.385\n",
       "reb               0.1342      0.033      4.049      0.000       0.069       0.199\n",
       "ast               0.1876      0.059      3.184      0.001       0.072       0.303\n",
       "oreb_pct          8.3932      1.691      4.963      0.000       5.078      11.708\n",
       "dreb_pct         26.6540      1.388     19.199      0.000      23.933      29.375\n",
       "usg_pct           3.2458      1.022      3.174      0.002       1.242       5.250\n",
       "ts_pct            2.7409      0.704      3.896      0.000       1.362       4.120\n",
       "ast_pct         -31.1150      1.140    -27.288      0.000     -33.350     -28.880\n",
       "==============================================================================\n",
       "Omnibus:                      103.240   Durbin-Watson:                   2.014\n",
       "Prob(Omnibus):                  0.000   Jarque-Bera (JB):              175.063\n",
       "Skew:                          -0.016   Prob(JB):                     9.67e-39\n",
       "Kurtosis:                       3.649   Cond. No.                     4.02e+03\n",
       "==============================================================================\n",
       "\n",
       "Notes:\n",
       "[1] Standard Errors assume that the covariance matrix of the errors is correctly specified.\n",
       "[2] The condition number is large, 4.02e+03. This might indicate that there are\n",
       "strong multicollinearity or other numerical problems.\n",
       "\"\"\""
      ]
     },
     "execution_count": 87,
     "metadata": {},
     "output_type": "execute_result"
    }
   ],
   "source": [
    "linreg = smf.ols(\"player_height ~ player_weight + reb + ast + oreb_pct + dreb_pct + usg_pct + ts_pct + ast_pct\",data=nba_pts).fit()\n",
    "linreg.summary()"
   ]
  },
  {
   "cell_type": "markdown",
   "metadata": {},
   "source": [
    "CREATE MODEL WITH SCALED TRAIN AND TEST VARIABLES"
   ]
  },
  {
   "cell_type": "code",
   "execution_count": 88,
   "metadata": {},
   "outputs": [],
   "source": [
    "x = nba_pts.drop(columns= [\"player_height\",\"pts\",\"gp\",\"usg_pct\"])\n",
    "y = nba_pts[\"player_height\"]"
   ]
  },
  {
   "cell_type": "code",
   "execution_count": 89,
   "metadata": {},
   "outputs": [],
   "source": [
    "x_train,x_test,y_train,_y_test = train_test_split(x,y,test_size = 0.2)\n",
    "scaler = MinMaxScaler()\n",
    "x_train_scaled = scaler.fit_transform(x_train)\n",
    "x_test_scaled = scaler.fit_transform(x_test)"
   ]
  },
  {
   "cell_type": "code",
   "execution_count": 93,
   "metadata": {},
   "outputs": [
    {
     "data": {
      "text/plain": [
       "LinearRegression()"
      ]
     },
     "execution_count": 93,
     "metadata": {},
     "output_type": "execute_result"
    }
   ],
   "source": [
    "lm = LinearRegression()\n",
    "lm.fit(x_train,y_train)"
   ]
  },
  {
   "cell_type": "code",
   "execution_count": 95,
   "metadata": {},
   "outputs": [],
   "source": [
    "predictions = lm.predict(x_test)"
   ]
  },
  {
   "cell_type": "code",
   "execution_count": 96,
   "metadata": {},
   "outputs": [
    {
     "data": {
      "text/plain": [
       "array([213.09084658, 195.89379887, 184.6131916 , ..., 202.21245105,\n",
       "       212.44590621, 206.65679083])"
      ]
     },
     "execution_count": 96,
     "metadata": {},
     "output_type": "execute_result"
    }
   ],
   "source": [
    "predictions"
   ]
  },
  {
   "cell_type": "markdown",
   "metadata": {},
   "source": [
    "## FINAL ANALYSIS"
   ]
  },
  {
   "cell_type": "code",
   "execution_count": 98,
   "metadata": {},
   "outputs": [
    {
     "data": {
      "text/html": [
       "<div>\n",
       "<style scoped>\n",
       "    .dataframe tbody tr th:only-of-type {\n",
       "        vertical-align: middle;\n",
       "    }\n",
       "\n",
       "    .dataframe tbody tr th {\n",
       "        vertical-align: top;\n",
       "    }\n",
       "\n",
       "    .dataframe thead th {\n",
       "        text-align: right;\n",
       "    }\n",
       "</style>\n",
       "<table border=\"1\" class=\"dataframe\">\n",
       "  <thead>\n",
       "    <tr style=\"text-align: right;\">\n",
       "      <th></th>\n",
       "      <th>player_name</th>\n",
       "      <th>team_abbreviation</th>\n",
       "      <th>age</th>\n",
       "      <th>player_height</th>\n",
       "      <th>player_weight</th>\n",
       "      <th>college</th>\n",
       "      <th>country</th>\n",
       "      <th>draft_year</th>\n",
       "      <th>draft_round</th>\n",
       "      <th>draft_number</th>\n",
       "      <th>...</th>\n",
       "      <th>ast</th>\n",
       "      <th>net_rating</th>\n",
       "      <th>oreb_pct</th>\n",
       "      <th>dreb_pct</th>\n",
       "      <th>usg_pct</th>\n",
       "      <th>ts_pct</th>\n",
       "      <th>ast_pct</th>\n",
       "      <th>season</th>\n",
       "      <th>position</th>\n",
       "      <th>is_center</th>\n",
       "    </tr>\n",
       "  </thead>\n",
       "  <tbody>\n",
       "    <tr>\n",
       "      <th>0</th>\n",
       "      <td>Dennis Rodman</td>\n",
       "      <td>CHI</td>\n",
       "      <td>36.0</td>\n",
       "      <td>198.12</td>\n",
       "      <td>99.790240</td>\n",
       "      <td>Southeastern Oklahoma State</td>\n",
       "      <td>USA</td>\n",
       "      <td>1986</td>\n",
       "      <td>2</td>\n",
       "      <td>27</td>\n",
       "      <td>...</td>\n",
       "      <td>3.1</td>\n",
       "      <td>16.1</td>\n",
       "      <td>0.186</td>\n",
       "      <td>0.323</td>\n",
       "      <td>0.100</td>\n",
       "      <td>0.479</td>\n",
       "      <td>0.113</td>\n",
       "      <td>1996-01-01</td>\n",
       "      <td>Guard</td>\n",
       "      <td>0</td>\n",
       "    </tr>\n",
       "    <tr>\n",
       "      <th>1</th>\n",
       "      <td>Dwayne Schintzius</td>\n",
       "      <td>LAC</td>\n",
       "      <td>28.0</td>\n",
       "      <td>215.90</td>\n",
       "      <td>117.933920</td>\n",
       "      <td>Florida</td>\n",
       "      <td>USA</td>\n",
       "      <td>1990</td>\n",
       "      <td>1</td>\n",
       "      <td>24</td>\n",
       "      <td>...</td>\n",
       "      <td>0.3</td>\n",
       "      <td>12.3</td>\n",
       "      <td>0.078</td>\n",
       "      <td>0.151</td>\n",
       "      <td>0.175</td>\n",
       "      <td>0.430</td>\n",
       "      <td>0.048</td>\n",
       "      <td>1996-01-01</td>\n",
       "      <td>Center</td>\n",
       "      <td>1</td>\n",
       "    </tr>\n",
       "    <tr>\n",
       "      <th>2</th>\n",
       "      <td>Earl Cureton</td>\n",
       "      <td>TOR</td>\n",
       "      <td>39.0</td>\n",
       "      <td>205.74</td>\n",
       "      <td>95.254320</td>\n",
       "      <td>Detroit Mercy</td>\n",
       "      <td>USA</td>\n",
       "      <td>1979</td>\n",
       "      <td>3</td>\n",
       "      <td>58</td>\n",
       "      <td>...</td>\n",
       "      <td>0.4</td>\n",
       "      <td>-2.1</td>\n",
       "      <td>0.105</td>\n",
       "      <td>0.102</td>\n",
       "      <td>0.103</td>\n",
       "      <td>0.376</td>\n",
       "      <td>0.148</td>\n",
       "      <td>1996-01-01</td>\n",
       "      <td>Forward</td>\n",
       "      <td>0</td>\n",
       "    </tr>\n",
       "    <tr>\n",
       "      <th>3</th>\n",
       "      <td>Ed O'Bannon</td>\n",
       "      <td>DAL</td>\n",
       "      <td>24.0</td>\n",
       "      <td>203.20</td>\n",
       "      <td>100.697424</td>\n",
       "      <td>UCLA</td>\n",
       "      <td>USA</td>\n",
       "      <td>1995</td>\n",
       "      <td>1</td>\n",
       "      <td>9</td>\n",
       "      <td>...</td>\n",
       "      <td>0.6</td>\n",
       "      <td>-8.7</td>\n",
       "      <td>0.060</td>\n",
       "      <td>0.149</td>\n",
       "      <td>0.167</td>\n",
       "      <td>0.399</td>\n",
       "      <td>0.077</td>\n",
       "      <td>1996-01-01</td>\n",
       "      <td>Forward</td>\n",
       "      <td>0</td>\n",
       "    </tr>\n",
       "    <tr>\n",
       "      <th>4</th>\n",
       "      <td>Ed Pinckney</td>\n",
       "      <td>MIA</td>\n",
       "      <td>34.0</td>\n",
       "      <td>205.74</td>\n",
       "      <td>108.862080</td>\n",
       "      <td>Villanova</td>\n",
       "      <td>USA</td>\n",
       "      <td>1985</td>\n",
       "      <td>1</td>\n",
       "      <td>10</td>\n",
       "      <td>...</td>\n",
       "      <td>0.2</td>\n",
       "      <td>-11.2</td>\n",
       "      <td>0.109</td>\n",
       "      <td>0.179</td>\n",
       "      <td>0.127</td>\n",
       "      <td>0.611</td>\n",
       "      <td>0.040</td>\n",
       "      <td>1996-01-01</td>\n",
       "      <td>Forward</td>\n",
       "      <td>0</td>\n",
       "    </tr>\n",
       "  </tbody>\n",
       "</table>\n",
       "<p>5 rows × 23 columns</p>\n",
       "</div>"
      ],
      "text/plain": [
       "         player_name team_abbreviation   age  player_height  player_weight  \\\n",
       "0      Dennis Rodman               CHI  36.0         198.12      99.790240   \n",
       "1  Dwayne Schintzius               LAC  28.0         215.90     117.933920   \n",
       "2       Earl Cureton               TOR  39.0         205.74      95.254320   \n",
       "3        Ed O'Bannon               DAL  24.0         203.20     100.697424   \n",
       "4        Ed Pinckney               MIA  34.0         205.74     108.862080   \n",
       "\n",
       "                       college country draft_year draft_round draft_number  \\\n",
       "0  Southeastern Oklahoma State     USA       1986           2           27   \n",
       "1                      Florida     USA       1990           1           24   \n",
       "2                Detroit Mercy     USA       1979           3           58   \n",
       "3                         UCLA     USA       1995           1            9   \n",
       "4                    Villanova     USA       1985           1           10   \n",
       "\n",
       "   ...  ast  net_rating  oreb_pct  dreb_pct  usg_pct  ts_pct  ast_pct  \\\n",
       "0  ...  3.1        16.1     0.186     0.323    0.100   0.479    0.113   \n",
       "1  ...  0.3        12.3     0.078     0.151    0.175   0.430    0.048   \n",
       "2  ...  0.4        -2.1     0.105     0.102    0.103   0.376    0.148   \n",
       "3  ...  0.6        -8.7     0.060     0.149    0.167   0.399    0.077   \n",
       "4  ...  0.2       -11.2     0.109     0.179    0.127   0.611    0.040   \n",
       "\n",
       "      season  position  is_center  \n",
       "0 1996-01-01     Guard          0  \n",
       "1 1996-01-01    Center          1  \n",
       "2 1996-01-01   Forward          0  \n",
       "3 1996-01-01   Forward          0  \n",
       "4 1996-01-01   Forward          0  \n",
       "\n",
       "[5 rows x 23 columns]"
      ]
     },
     "execution_count": 98,
     "metadata": {},
     "output_type": "execute_result"
    }
   ],
   "source": [
    "nba.head()"
   ]
  },
  {
   "cell_type": "code",
   "execution_count": 99,
   "metadata": {},
   "outputs": [],
   "source": [
    "nba_lucky = nba.groupby(\"draft_number\").mean(\"pts\")"
   ]
  },
  {
   "cell_type": "code",
   "execution_count": 107,
   "metadata": {},
   "outputs": [],
   "source": [
    "nba_lucky = nba_lucky.sort_values(by=['pts'], ascending=False)"
   ]
  },
  {
   "cell_type": "code",
   "execution_count": 115,
   "metadata": {},
   "outputs": [
    {
     "data": {
      "text/html": [
       "<div>\n",
       "<style scoped>\n",
       "    .dataframe tbody tr th:only-of-type {\n",
       "        vertical-align: middle;\n",
       "    }\n",
       "\n",
       "    .dataframe tbody tr th {\n",
       "        vertical-align: top;\n",
       "    }\n",
       "\n",
       "    .dataframe thead th {\n",
       "        text-align: right;\n",
       "    }\n",
       "</style>\n",
       "<table border=\"1\" class=\"dataframe\">\n",
       "  <thead>\n",
       "    <tr style=\"text-align: right;\">\n",
       "      <th></th>\n",
       "      <th>draft_number</th>\n",
       "      <th>age</th>\n",
       "      <th>player_height</th>\n",
       "      <th>player_weight</th>\n",
       "      <th>gp</th>\n",
       "      <th>pts</th>\n",
       "      <th>reb</th>\n",
       "      <th>ast</th>\n",
       "      <th>net_rating</th>\n",
       "      <th>oreb_pct</th>\n",
       "      <th>dreb_pct</th>\n",
       "      <th>usg_pct</th>\n",
       "      <th>ts_pct</th>\n",
       "      <th>ast_pct</th>\n",
       "      <th>is_center</th>\n",
       "    </tr>\n",
       "  </thead>\n",
       "  <tbody>\n",
       "    <tr>\n",
       "      <th>0</th>\n",
       "      <td>1</td>\n",
       "      <td>28.053125</td>\n",
       "      <td>206.621062</td>\n",
       "      <td>111.008137</td>\n",
       "      <td>59.646875</td>\n",
       "      <td>16.256250</td>\n",
       "      <td>7.237813</td>\n",
       "      <td>2.920000</td>\n",
       "      <td>1.582188</td>\n",
       "      <td>0.074813</td>\n",
       "      <td>0.193659</td>\n",
       "      <td>0.239325</td>\n",
       "      <td>0.537825</td>\n",
       "      <td>0.152706</td>\n",
       "      <td>0.412500</td>\n",
       "    </tr>\n",
       "    <tr>\n",
       "      <th>1</th>\n",
       "      <td>3</td>\n",
       "      <td>27.642140</td>\n",
       "      <td>201.900268</td>\n",
       "      <td>102.445043</td>\n",
       "      <td>61.284281</td>\n",
       "      <td>14.481271</td>\n",
       "      <td>5.095318</td>\n",
       "      <td>3.171906</td>\n",
       "      <td>0.317391</td>\n",
       "      <td>0.050712</td>\n",
       "      <td>0.146642</td>\n",
       "      <td>0.226796</td>\n",
       "      <td>0.537167</td>\n",
       "      <td>0.172819</td>\n",
       "      <td>0.190635</td>\n",
       "    </tr>\n",
       "    <tr>\n",
       "      <th>2</th>\n",
       "      <td>5</td>\n",
       "      <td>28.525000</td>\n",
       "      <td>201.422000</td>\n",
       "      <td>101.856919</td>\n",
       "      <td>62.946875</td>\n",
       "      <td>12.979375</td>\n",
       "      <td>5.024375</td>\n",
       "      <td>2.868125</td>\n",
       "      <td>-0.425312</td>\n",
       "      <td>0.052162</td>\n",
       "      <td>0.156781</td>\n",
       "      <td>0.216509</td>\n",
       "      <td>0.530194</td>\n",
       "      <td>0.161453</td>\n",
       "      <td>0.218750</td>\n",
       "    </tr>\n",
       "    <tr>\n",
       "      <th>3</th>\n",
       "      <td>4</td>\n",
       "      <td>27.588424</td>\n",
       "      <td>202.278199</td>\n",
       "      <td>101.027916</td>\n",
       "      <td>62.090032</td>\n",
       "      <td>12.521865</td>\n",
       "      <td>5.166881</td>\n",
       "      <td>2.900000</td>\n",
       "      <td>-0.217363</td>\n",
       "      <td>0.053659</td>\n",
       "      <td>0.156563</td>\n",
       "      <td>0.209923</td>\n",
       "      <td>0.530431</td>\n",
       "      <td>0.159068</td>\n",
       "      <td>0.199357</td>\n",
       "    </tr>\n",
       "    <tr>\n",
       "      <th>4</th>\n",
       "      <td>2</td>\n",
       "      <td>27.658863</td>\n",
       "      <td>204.499732</td>\n",
       "      <td>103.942351</td>\n",
       "      <td>62.749164</td>\n",
       "      <td>12.146823</td>\n",
       "      <td>5.785619</td>\n",
       "      <td>2.650502</td>\n",
       "      <td>-0.180268</td>\n",
       "      <td>0.064569</td>\n",
       "      <td>0.172582</td>\n",
       "      <td>0.204405</td>\n",
       "      <td>0.530706</td>\n",
       "      <td>0.139555</td>\n",
       "      <td>0.267559</td>\n",
       "    </tr>\n",
       "    <tr>\n",
       "      <th>5</th>\n",
       "      <td>7</td>\n",
       "      <td>26.963235</td>\n",
       "      <td>200.958824</td>\n",
       "      <td>99.658498</td>\n",
       "      <td>62.602941</td>\n",
       "      <td>11.312868</td>\n",
       "      <td>4.176471</td>\n",
       "      <td>2.519853</td>\n",
       "      <td>-1.644118</td>\n",
       "      <td>0.047864</td>\n",
       "      <td>0.136790</td>\n",
       "      <td>0.203728</td>\n",
       "      <td>0.523460</td>\n",
       "      <td>0.145121</td>\n",
       "      <td>0.246324</td>\n",
       "    </tr>\n",
       "    <tr>\n",
       "      <th>6</th>\n",
       "      <td>10</td>\n",
       "      <td>27.791367</td>\n",
       "      <td>200.404173</td>\n",
       "      <td>101.038434</td>\n",
       "      <td>60.935252</td>\n",
       "      <td>11.004676</td>\n",
       "      <td>4.293525</td>\n",
       "      <td>2.309353</td>\n",
       "      <td>-0.369784</td>\n",
       "      <td>0.051025</td>\n",
       "      <td>0.140094</td>\n",
       "      <td>0.198583</td>\n",
       "      <td>0.525183</td>\n",
       "      <td>0.142770</td>\n",
       "      <td>0.212230</td>\n",
       "    </tr>\n",
       "    <tr>\n",
       "      <th>7</th>\n",
       "      <td>9</td>\n",
       "      <td>27.751773</td>\n",
       "      <td>203.839504</td>\n",
       "      <td>104.858568</td>\n",
       "      <td>60.964539</td>\n",
       "      <td>10.977660</td>\n",
       "      <td>5.215248</td>\n",
       "      <td>2.121277</td>\n",
       "      <td>-0.512766</td>\n",
       "      <td>0.066177</td>\n",
       "      <td>0.170582</td>\n",
       "      <td>0.197000</td>\n",
       "      <td>0.525117</td>\n",
       "      <td>0.127528</td>\n",
       "      <td>0.269504</td>\n",
       "    </tr>\n",
       "    <tr>\n",
       "      <th>8</th>\n",
       "      <td>13</td>\n",
       "      <td>27.573770</td>\n",
       "      <td>200.805738</td>\n",
       "      <td>100.465051</td>\n",
       "      <td>59.356557</td>\n",
       "      <td>10.942213</td>\n",
       "      <td>3.981967</td>\n",
       "      <td>2.120082</td>\n",
       "      <td>-1.456967</td>\n",
       "      <td>0.049639</td>\n",
       "      <td>0.141877</td>\n",
       "      <td>0.203561</td>\n",
       "      <td>0.527217</td>\n",
       "      <td>0.139852</td>\n",
       "      <td>0.131148</td>\n",
       "    </tr>\n",
       "    <tr>\n",
       "      <th>9</th>\n",
       "      <td>6</td>\n",
       "      <td>26.424390</td>\n",
       "      <td>203.992976</td>\n",
       "      <td>105.058545</td>\n",
       "      <td>58.463415</td>\n",
       "      <td>10.079024</td>\n",
       "      <td>4.234634</td>\n",
       "      <td>1.904878</td>\n",
       "      <td>-1.961951</td>\n",
       "      <td>0.055366</td>\n",
       "      <td>0.142332</td>\n",
       "      <td>0.188273</td>\n",
       "      <td>0.518605</td>\n",
       "      <td>0.116420</td>\n",
       "      <td>0.253659</td>\n",
       "    </tr>\n",
       "  </tbody>\n",
       "</table>\n",
       "</div>"
      ],
      "text/plain": [
       "  draft_number        age  player_height  player_weight         gp        pts  \\\n",
       "0            1  28.053125     206.621062     111.008137  59.646875  16.256250   \n",
       "1            3  27.642140     201.900268     102.445043  61.284281  14.481271   \n",
       "2            5  28.525000     201.422000     101.856919  62.946875  12.979375   \n",
       "3            4  27.588424     202.278199     101.027916  62.090032  12.521865   \n",
       "4            2  27.658863     204.499732     103.942351  62.749164  12.146823   \n",
       "5            7  26.963235     200.958824      99.658498  62.602941  11.312868   \n",
       "6           10  27.791367     200.404173     101.038434  60.935252  11.004676   \n",
       "7            9  27.751773     203.839504     104.858568  60.964539  10.977660   \n",
       "8           13  27.573770     200.805738     100.465051  59.356557  10.942213   \n",
       "9            6  26.424390     203.992976     105.058545  58.463415  10.079024   \n",
       "\n",
       "        reb       ast  net_rating  oreb_pct  dreb_pct   usg_pct    ts_pct  \\\n",
       "0  7.237813  2.920000    1.582188  0.074813  0.193659  0.239325  0.537825   \n",
       "1  5.095318  3.171906    0.317391  0.050712  0.146642  0.226796  0.537167   \n",
       "2  5.024375  2.868125   -0.425312  0.052162  0.156781  0.216509  0.530194   \n",
       "3  5.166881  2.900000   -0.217363  0.053659  0.156563  0.209923  0.530431   \n",
       "4  5.785619  2.650502   -0.180268  0.064569  0.172582  0.204405  0.530706   \n",
       "5  4.176471  2.519853   -1.644118  0.047864  0.136790  0.203728  0.523460   \n",
       "6  4.293525  2.309353   -0.369784  0.051025  0.140094  0.198583  0.525183   \n",
       "7  5.215248  2.121277   -0.512766  0.066177  0.170582  0.197000  0.525117   \n",
       "8  3.981967  2.120082   -1.456967  0.049639  0.141877  0.203561  0.527217   \n",
       "9  4.234634  1.904878   -1.961951  0.055366  0.142332  0.188273  0.518605   \n",
       "\n",
       "    ast_pct  is_center  \n",
       "0  0.152706   0.412500  \n",
       "1  0.172819   0.190635  \n",
       "2  0.161453   0.218750  \n",
       "3  0.159068   0.199357  \n",
       "4  0.139555   0.267559  \n",
       "5  0.145121   0.246324  \n",
       "6  0.142770   0.212230  \n",
       "7  0.127528   0.269504  \n",
       "8  0.139852   0.131148  \n",
       "9  0.116420   0.253659  "
      ]
     },
     "execution_count": 115,
     "metadata": {},
     "output_type": "execute_result"
    }
   ],
   "source": [
    "lucky_numbers = nba_lucky.head(10)\n",
    "lucky_numbers = lucky_numbers.reset_index()\n",
    "lucky_numbers"
   ]
  },
  {
   "cell_type": "code",
   "execution_count": 117,
   "metadata": {},
   "outputs": [
    {
     "data": {
      "text/plain": [
       "Text(9.925000000000004, 0.5, 'Points Average')"
      ]
     },
     "execution_count": 117,
     "metadata": {},
     "output_type": "execute_result"
    },
    {
     "data": {
      "image/png": "[encoded data removed]",
      "text/plain": [
       "<Figure size 360x360 with 1 Axes>"
      ]
     },
     "metadata": {
      "needs_background": "light"
     },
     "output_type": "display_data"
    }
   ],
   "source": [
    "sns.catplot(x=\"draft_number\",y=\"pts\",kind='bar',data=lucky_numbers)\n",
    "plt.title(\"Draft Numbers and PPG\")\n",
    "plt.xlabel(\"Draft Number\")\n",
    "plt.ylabel(\"Points Average\")"
   ]
  }
 ],
 "metadata": {
  "kernelspec": {
   "display_name": "Python 3",
   "language": "python",
   "name": "python3"
  },
  "language_info": {
   "codemirror_mode": {
    "name": "ipython",
    "version": 3
   },
   "file_extension": ".py",
   "mimetype": "text/x-python",
   "name": "python",
   "nbconvert_exporter": "python",
   "pygments_lexer": "ipython3",
   "version": "3.8.5"
  }
 },
 "nbformat": 4,
 "nbformat_minor": 4
}
